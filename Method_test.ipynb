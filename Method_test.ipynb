{
 "cells": [
  {
   "cell_type": "code",
   "execution_count": 1,
   "metadata": {},
   "outputs": [],
   "source": [
    "import sys\n",
    "sys.path.insert(1, 'Utilities')"
   ]
  },
  {
   "attachments": {},
   "cell_type": "markdown",
   "metadata": {},
   "source": [
    "# 1.) Model Type Detection"
   ]
  },
  {
   "attachments": {},
   "cell_type": "markdown",
   "metadata": {},
   "source": [
    "## Strategy for matching the keywords to Sales Description:\n",
    "\n",
    "#### From what I understand:\n",
    "- Every request body has just one model code. If a request contains several (or maybe an ambigious one), we'll need to create multiple request bodies.\n",
    "- There is also a lot of overlap in their names, which might cause a problem if people misspell them.\n",
    "\n",
    "### Potential approach:\n",
    "- We'll need to find some way to extract the keywords from the request text and find a similarity score with the Sales description.\n",
    "- We can calculate the score with cosine similarity, and then softmax the results. \n",
    "\n",
    "#### How to get the score:\n",
    "\n",
    "##### Method 1:\n",
    "- Maybe encode the table with BERT (SBERT would work here) and compare the BERT encodings of the keywords with the BERT encodings of the sales description to find which one matches the best.\n",
    "- Why BERT?:  This takes care of any spelling and typographical errors AND if there is some ambiguity, we'll get very similary softmax scores for different sales descriptions.\n"
   ]
  },
  {
   "cell_type": "code",
   "execution_count": 2,
   "metadata": {},
   "outputs": [],
   "source": [
    "from utilities import *"
   ]
  },
  {
   "cell_type": "code",
   "execution_count": 3,
   "metadata": {},
   "outputs": [],
   "source": [
    "target_embeddings = [get_sbert_embeddings('iX xDrive50'), get_sbert_embeddings('iX xDrive40'), get_sbert_embeddings('X7 xDrive40i'), get_sbert_embeddings('X7 xDrive40d'), get_sbert_embeddings('M8'), get_sbert_embeddings('318i')]\n",
    "test_emb = get_sbert_embeddings('iX xDrive50')"
   ]
  },
  {
   "cell_type": "code",
   "execution_count": 4,
   "metadata": {},
   "outputs": [
    {
     "data": {
      "text/plain": [
       "array([0.16695336, 0.16686176, 0.16672765, 0.16676882, 0.16661336,\n",
       "       0.16607507], dtype=float32)"
      ]
     },
     "execution_count": 4,
     "metadata": {},
     "output_type": "execute_result"
    }
   ],
   "source": [
    "softmax(np.array([get_cosine_similarity(i, test_emb) for i in target_embeddings]))"
   ]
  },
  {
   "attachments": {},
   "cell_type": "markdown",
   "metadata": {},
   "source": [
    "##### Problems:\n",
    "- BERT (or FastText, Word2Vec, etc.) is really heavy and an overkill for this problem. \n",
    "- On top of that, the similarity scores are not different for big changes in the model type code, let alone for the minor ones (typing errors, partial names etc.). Even pooling strategies don't work well here."
   ]
  },
  {
   "attachments": {},
   "cell_type": "markdown",
   "metadata": {},
   "source": [
    "##### Method 2:\n",
    "- We can calculate the score with the longest common subsequence as a percentage of the length of the sales description extracted from the text. \n",
    "- This is a lot more interpretable and since a typgraphical error will change the score for every match, the softmax output will remain consistent.\n",
    "- Rest all is same as the BERT strategy."
   ]
  },
  {
   "cell_type": "code",
   "execution_count": 5,
   "metadata": {},
   "outputs": [],
   "source": [
    "target_string = ['iX xDrive50', 'iX xDrive40','X7 xDrive40i', 'X7 xDrive40d','M8','318i']"
   ]
  },
  {
   "cell_type": "code",
   "execution_count": 6,
   "metadata": {},
   "outputs": [
    {
     "data": {
      "text/plain": [
       "array([0.18498475, 0.20258965, 0.22186999, 0.20413024, 0.08162141,\n",
       "       0.10480396])"
      ]
     },
     "execution_count": 6,
     "metadata": {},
     "output_type": "execute_result"
    }
   ],
   "source": [
    "test_string = 'X7 xDrive40i'\n",
    "softmax(np.array([lcs_similarity(i, test_string) for i in target_string]))"
   ]
  },
  {
   "cell_type": "code",
   "execution_count": 7,
   "metadata": {},
   "outputs": [
    {
     "data": {
      "text/plain": [
       "array([0.19776486, 0.221006  , 0.19776486, 0.19776486, 0.08130357,\n",
       "       0.10439584])"
      ]
     },
     "execution_count": 7,
     "metadata": {},
     "output_type": "execute_result"
    }
   ],
   "source": [
    "# With spelling error\n",
    "test_string = 'ix Drve40'\n",
    "softmax(np.array([lcs_similarity(i, test_string) for i in target_string]))"
   ]
  },
  {
   "cell_type": "code",
   "execution_count": 8,
   "metadata": {},
   "outputs": [
    {
     "data": {
      "text/plain": [
       "array([0.18416297, 0.21244395, 0.21244395, 0.21244395, 0.07815376,\n",
       "       0.10035142])"
      ]
     },
     "execution_count": 8,
     "metadata": {},
     "output_type": "execute_result"
    }
   ],
   "source": [
    "# With ambiguity\n",
    "test_string = 'Drive40'\n",
    "softmax(np.array([lcs_similarity(i, test_string) for i in target_string]))"
   ]
  },
  {
   "attachments": {},
   "cell_type": "markdown",
   "metadata": {},
   "source": [
    "##### Potential Selection method: \n",
    "- If two score are equal till the 2nd decimal place, we can declare that the request is ambigious enough for us to create multiple request bodies."
   ]
  },
  {
   "attachments": {},
   "cell_type": "markdown",
   "metadata": {},
   "source": [
    "## 2.) Keyword detection\n",
    "- Essentially, I need to find all the key terms in the text body and find which ones of them match with the sales description of model type codes.\n",
    "\n",
    "#### Here is an idea: \n",
    "- The bolean formula taks is going to be a POS-Tagging job. If I am going to extract nouns there anyway, why not use the same information to find the potnetial model type codes as well?\n",
    "\n",
    "## 2 (redefined) Keyword detection with some POS and conjugation context:\n",
    "- Spacy's 'en_core_web_sm' might be good enough here."
   ]
  },
  {
   "cell_type": "code",
   "execution_count": 39,
   "metadata": {},
   "outputs": [
    {
     "data": {
      "text/html": [
       "<span class=\"tex2jax_ignore\"><svg xmlns=\"http://www.w3.org/2000/svg\" xmlns:xlink=\"http://www.w3.org/1999/xlink\" xml:lang=\"en\" id=\"16a3058469504dcc9b0ffd0941564769-0\" class=\"displacy\" width=\"6350\" height=\"662.0\" direction=\"ltr\" style=\"max-width: none; height: 662.0px; color: #000000; background: #ffffff; font-family: Arial; direction: ltr\">\n",
       "<text class=\"displacy-token\" fill=\"currentColor\" text-anchor=\"middle\" y=\"572.0\">\n",
       "    <tspan class=\"displacy-word\" fill=\"currentColor\" x=\"50\">I</tspan>\n",
       "    <tspan class=\"displacy-tag\" dy=\"2em\" fill=\"currentColor\" x=\"50\">PRON</tspan>\n",
       "</text>\n",
       "\n",
       "<text class=\"displacy-token\" fill=\"currentColor\" text-anchor=\"middle\" y=\"572.0\">\n",
       "    <tspan class=\"displacy-word\" fill=\"currentColor\" x=\"225\">am</tspan>\n",
       "    <tspan class=\"displacy-tag\" dy=\"2em\" fill=\"currentColor\" x=\"225\">AUX</tspan>\n",
       "</text>\n",
       "\n",
       "<text class=\"displacy-token\" fill=\"currentColor\" text-anchor=\"middle\" y=\"572.0\">\n",
       "    <tspan class=\"displacy-word\" fill=\"currentColor\" x=\"400\">planning</tspan>\n",
       "    <tspan class=\"displacy-tag\" dy=\"2em\" fill=\"currentColor\" x=\"400\">VERB</tspan>\n",
       "</text>\n",
       "\n",
       "<text class=\"displacy-token\" fill=\"currentColor\" text-anchor=\"middle\" y=\"572.0\">\n",
       "    <tspan class=\"displacy-word\" fill=\"currentColor\" x=\"575\">to</tspan>\n",
       "    <tspan class=\"displacy-tag\" dy=\"2em\" fill=\"currentColor\" x=\"575\">PART</tspan>\n",
       "</text>\n",
       "\n",
       "<text class=\"displacy-token\" fill=\"currentColor\" text-anchor=\"middle\" y=\"572.0\">\n",
       "    <tspan class=\"displacy-word\" fill=\"currentColor\" x=\"750\">order</tspan>\n",
       "    <tspan class=\"displacy-tag\" dy=\"2em\" fill=\"currentColor\" x=\"750\">VERB</tspan>\n",
       "</text>\n",
       "\n",
       "<text class=\"displacy-token\" fill=\"currentColor\" text-anchor=\"middle\" y=\"572.0\">\n",
       "    <tspan class=\"displacy-word\" fill=\"currentColor\" x=\"925\">the</tspan>\n",
       "    <tspan class=\"displacy-tag\" dy=\"2em\" fill=\"currentColor\" x=\"925\">DET</tspan>\n",
       "</text>\n",
       "\n",
       "<text class=\"displacy-token\" fill=\"currentColor\" text-anchor=\"middle\" y=\"572.0\">\n",
       "    <tspan class=\"displacy-word\" fill=\"currentColor\" x=\"1100\">BMW</tspan>\n",
       "    <tspan class=\"displacy-tag\" dy=\"2em\" fill=\"currentColor\" x=\"1100\">PROPN</tspan>\n",
       "</text>\n",
       "\n",
       "<text class=\"displacy-token\" fill=\"currentColor\" text-anchor=\"middle\" y=\"572.0\">\n",
       "    <tspan class=\"displacy-word\" fill=\"currentColor\" x=\"1275\">M8</tspan>\n",
       "    <tspan class=\"displacy-tag\" dy=\"2em\" fill=\"currentColor\" x=\"1275\">PROPN</tspan>\n",
       "</text>\n",
       "\n",
       "<text class=\"displacy-token\" fill=\"currentColor\" text-anchor=\"middle\" y=\"572.0\">\n",
       "    <tspan class=\"displacy-word\" fill=\"currentColor\" x=\"1450\">with</tspan>\n",
       "    <tspan class=\"displacy-tag\" dy=\"2em\" fill=\"currentColor\" x=\"1450\">ADP</tspan>\n",
       "</text>\n",
       "\n",
       "<text class=\"displacy-token\" fill=\"currentColor\" text-anchor=\"middle\" y=\"572.0\">\n",
       "    <tspan class=\"displacy-word\" fill=\"currentColor\" x=\"1625\">a</tspan>\n",
       "    <tspan class=\"displacy-tag\" dy=\"2em\" fill=\"currentColor\" x=\"1625\">DET</tspan>\n",
       "</text>\n",
       "\n",
       "<text class=\"displacy-token\" fill=\"currentColor\" text-anchor=\"middle\" y=\"572.0\">\n",
       "    <tspan class=\"displacy-word\" fill=\"currentColor\" x=\"1800\">sunroof</tspan>\n",
       "    <tspan class=\"displacy-tag\" dy=\"2em\" fill=\"currentColor\" x=\"1800\">NOUN</tspan>\n",
       "</text>\n",
       "\n",
       "<text class=\"displacy-token\" fill=\"currentColor\" text-anchor=\"middle\" y=\"572.0\">\n",
       "    <tspan class=\"displacy-word\" fill=\"currentColor\" x=\"1975\">or</tspan>\n",
       "    <tspan class=\"displacy-tag\" dy=\"2em\" fill=\"currentColor\" x=\"1975\">CCONJ</tspan>\n",
       "</text>\n",
       "\n",
       "<text class=\"displacy-token\" fill=\"currentColor\" text-anchor=\"middle\" y=\"572.0\">\n",
       "    <tspan class=\"displacy-word\" fill=\"currentColor\" x=\"2150\">a</tspan>\n",
       "    <tspan class=\"displacy-tag\" dy=\"2em\" fill=\"currentColor\" x=\"2150\">DET</tspan>\n",
       "</text>\n",
       "\n",
       "<text class=\"displacy-token\" fill=\"currentColor\" text-anchor=\"middle\" y=\"572.0\">\n",
       "    <tspan class=\"displacy-word\" fill=\"currentColor\" x=\"2325\">panorama</tspan>\n",
       "    <tspan class=\"displacy-tag\" dy=\"2em\" fill=\"currentColor\" x=\"2325\">NOUN</tspan>\n",
       "</text>\n",
       "\n",
       "<text class=\"displacy-token\" fill=\"currentColor\" text-anchor=\"middle\" y=\"572.0\">\n",
       "    <tspan class=\"displacy-word\" fill=\"currentColor\" x=\"2500\">glass</tspan>\n",
       "    <tspan class=\"displacy-tag\" dy=\"2em\" fill=\"currentColor\" x=\"2500\">NOUN</tspan>\n",
       "</text>\n",
       "\n",
       "<text class=\"displacy-token\" fill=\"currentColor\" text-anchor=\"middle\" y=\"572.0\">\n",
       "    <tspan class=\"displacy-word\" fill=\"currentColor\" x=\"2675\">roof</tspan>\n",
       "    <tspan class=\"displacy-tag\" dy=\"2em\" fill=\"currentColor\" x=\"2675\">NOUN</tspan>\n",
       "</text>\n",
       "\n",
       "<text class=\"displacy-token\" fill=\"currentColor\" text-anchor=\"middle\" y=\"572.0\">\n",
       "    <tspan class=\"displacy-word\" fill=\"currentColor\" x=\"2850\">sky</tspan>\n",
       "    <tspan class=\"displacy-tag\" dy=\"2em\" fill=\"currentColor\" x=\"2850\">NOUN</tspan>\n",
       "</text>\n",
       "\n",
       "<text class=\"displacy-token\" fill=\"currentColor\" text-anchor=\"middle\" y=\"572.0\">\n",
       "    <tspan class=\"displacy-word\" fill=\"currentColor\" x=\"3025\">lounge</tspan>\n",
       "    <tspan class=\"displacy-tag\" dy=\"2em\" fill=\"currentColor\" x=\"3025\">NOUN</tspan>\n",
       "</text>\n",
       "\n",
       "<text class=\"displacy-token\" fill=\"currentColor\" text-anchor=\"middle\" y=\"572.0\">\n",
       "    <tspan class=\"displacy-word\" fill=\"currentColor\" x=\"3200\">or</tspan>\n",
       "    <tspan class=\"displacy-tag\" dy=\"2em\" fill=\"currentColor\" x=\"3200\">CCONJ</tspan>\n",
       "</text>\n",
       "\n",
       "<text class=\"displacy-token\" fill=\"currentColor\" text-anchor=\"middle\" y=\"572.0\">\n",
       "    <tspan class=\"displacy-word\" fill=\"currentColor\" x=\"3375\">with</tspan>\n",
       "    <tspan class=\"displacy-tag\" dy=\"2em\" fill=\"currentColor\" x=\"3375\">ADP</tspan>\n",
       "</text>\n",
       "\n",
       "<text class=\"displacy-token\" fill=\"currentColor\" text-anchor=\"middle\" y=\"572.0\">\n",
       "    <tspan class=\"displacy-word\" fill=\"currentColor\" x=\"3550\">the</tspan>\n",
       "    <tspan class=\"displacy-tag\" dy=\"2em\" fill=\"currentColor\" x=\"3550\">DET</tspan>\n",
       "</text>\n",
       "\n",
       "<text class=\"displacy-token\" fill=\"currentColor\" text-anchor=\"middle\" y=\"572.0\">\n",
       "    <tspan class=\"displacy-word\" fill=\"currentColor\" x=\"3725\">M</tspan>\n",
       "    <tspan class=\"displacy-tag\" dy=\"2em\" fill=\"currentColor\" x=\"3725\">PROPN</tspan>\n",
       "</text>\n",
       "\n",
       "<text class=\"displacy-token\" fill=\"currentColor\" text-anchor=\"middle\" y=\"572.0\">\n",
       "    <tspan class=\"displacy-word\" fill=\"currentColor\" x=\"3900\">Sport</tspan>\n",
       "    <tspan class=\"displacy-tag\" dy=\"2em\" fill=\"currentColor\" x=\"3900\">PROPN</tspan>\n",
       "</text>\n",
       "\n",
       "<text class=\"displacy-token\" fill=\"currentColor\" text-anchor=\"middle\" y=\"572.0\">\n",
       "    <tspan class=\"displacy-word\" fill=\"currentColor\" x=\"4075\">Package</tspan>\n",
       "    <tspan class=\"displacy-tag\" dy=\"2em\" fill=\"currentColor\" x=\"4075\">PROPN</tspan>\n",
       "</text>\n",
       "\n",
       "<text class=\"displacy-token\" fill=\"currentColor\" text-anchor=\"middle\" y=\"572.0\">\n",
       "    <tspan class=\"displacy-word\" fill=\"currentColor\" x=\"4250\">or</tspan>\n",
       "    <tspan class=\"displacy-tag\" dy=\"2em\" fill=\"currentColor\" x=\"4250\">CCONJ</tspan>\n",
       "</text>\n",
       "\n",
       "<text class=\"displacy-token\" fill=\"currentColor\" text-anchor=\"middle\" y=\"572.0\">\n",
       "    <tspan class=\"displacy-word\" fill=\"currentColor\" x=\"4425\">right-</tspan>\n",
       "    <tspan class=\"displacy-tag\" dy=\"2em\" fill=\"currentColor\" x=\"4425\">ADJ</tspan>\n",
       "</text>\n",
       "\n",
       "<text class=\"displacy-token\" fill=\"currentColor\" text-anchor=\"middle\" y=\"572.0\">\n",
       "    <tspan class=\"displacy-word\" fill=\"currentColor\" x=\"4600\">hand</tspan>\n",
       "    <tspan class=\"displacy-tag\" dy=\"2em\" fill=\"currentColor\" x=\"4600\">NOUN</tspan>\n",
       "</text>\n",
       "\n",
       "<text class=\"displacy-token\" fill=\"currentColor\" text-anchor=\"middle\" y=\"572.0\">\n",
       "    <tspan class=\"displacy-word\" fill=\"currentColor\" x=\"4775\">drive</tspan>\n",
       "    <tspan class=\"displacy-tag\" dy=\"2em\" fill=\"currentColor\" x=\"4775\">NOUN</tspan>\n",
       "</text>\n",
       "\n",
       "<text class=\"displacy-token\" fill=\"currentColor\" text-anchor=\"middle\" y=\"572.0\">\n",
       "    <tspan class=\"displacy-word\" fill=\"currentColor\" x=\"4950\">on</tspan>\n",
       "    <tspan class=\"displacy-tag\" dy=\"2em\" fill=\"currentColor\" x=\"4950\">ADP</tspan>\n",
       "</text>\n",
       "\n",
       "<text class=\"displacy-token\" fill=\"currentColor\" text-anchor=\"middle\" y=\"572.0\">\n",
       "    <tspan class=\"displacy-word\" fill=\"currentColor\" x=\"5125\">12th</tspan>\n",
       "    <tspan class=\"displacy-tag\" dy=\"2em\" fill=\"currentColor\" x=\"5125\">ADJ</tspan>\n",
       "</text>\n",
       "\n",
       "<text class=\"displacy-token\" fill=\"currentColor\" text-anchor=\"middle\" y=\"572.0\">\n",
       "    <tspan class=\"displacy-word\" fill=\"currentColor\" x=\"5300\">April</tspan>\n",
       "    <tspan class=\"displacy-tag\" dy=\"2em\" fill=\"currentColor\" x=\"5300\">PROPN</tspan>\n",
       "</text>\n",
       "\n",
       "<text class=\"displacy-token\" fill=\"currentColor\" text-anchor=\"middle\" y=\"572.0\">\n",
       "    <tspan class=\"displacy-word\" fill=\"currentColor\" x=\"5475\">2018.</tspan>\n",
       "    <tspan class=\"displacy-tag\" dy=\"2em\" fill=\"currentColor\" x=\"5475\">NUM</tspan>\n",
       "</text>\n",
       "\n",
       "<text class=\"displacy-token\" fill=\"currentColor\" text-anchor=\"middle\" y=\"572.0\">\n",
       "    <tspan class=\"displacy-word\" fill=\"currentColor\" x=\"5650\">Is</tspan>\n",
       "    <tspan class=\"displacy-tag\" dy=\"2em\" fill=\"currentColor\" x=\"5650\">AUX</tspan>\n",
       "</text>\n",
       "\n",
       "<text class=\"displacy-token\" fill=\"currentColor\" text-anchor=\"middle\" y=\"572.0\">\n",
       "    <tspan class=\"displacy-word\" fill=\"currentColor\" x=\"5825\">this</tspan>\n",
       "    <tspan class=\"displacy-tag\" dy=\"2em\" fill=\"currentColor\" x=\"5825\">DET</tspan>\n",
       "</text>\n",
       "\n",
       "<text class=\"displacy-token\" fill=\"currentColor\" text-anchor=\"middle\" y=\"572.0\">\n",
       "    <tspan class=\"displacy-word\" fill=\"currentColor\" x=\"6000\">configuration</tspan>\n",
       "    <tspan class=\"displacy-tag\" dy=\"2em\" fill=\"currentColor\" x=\"6000\">NOUN</tspan>\n",
       "</text>\n",
       "\n",
       "<text class=\"displacy-token\" fill=\"currentColor\" text-anchor=\"middle\" y=\"572.0\">\n",
       "    <tspan class=\"displacy-word\" fill=\"currentColor\" x=\"6175\">possible?</tspan>\n",
       "    <tspan class=\"displacy-tag\" dy=\"2em\" fill=\"currentColor\" x=\"6175\">ADJ</tspan>\n",
       "</text>\n",
       "\n",
       "<g class=\"displacy-arrow\">\n",
       "    <path class=\"displacy-arc\" id=\"arrow-16a3058469504dcc9b0ffd0941564769-0-0\" stroke-width=\"2px\" d=\"M70,527.0 C70,352.0 380.0,352.0 380.0,527.0\" fill=\"none\" stroke=\"currentColor\"/>\n",
       "    <text dy=\"1.25em\" style=\"font-size: 0.8em; letter-spacing: 1px\">\n",
       "        <textPath xlink:href=\"#arrow-16a3058469504dcc9b0ffd0941564769-0-0\" class=\"displacy-label\" startOffset=\"50%\" side=\"left\" fill=\"currentColor\" text-anchor=\"middle\">nsubj</textPath>\n",
       "    </text>\n",
       "    <path class=\"displacy-arrowhead\" d=\"M70,529.0 L62,517.0 78,517.0\" fill=\"currentColor\"/>\n",
       "</g>\n",
       "\n",
       "<g class=\"displacy-arrow\">\n",
       "    <path class=\"displacy-arc\" id=\"arrow-16a3058469504dcc9b0ffd0941564769-0-1\" stroke-width=\"2px\" d=\"M245,527.0 C245,439.5 375.0,439.5 375.0,527.0\" fill=\"none\" stroke=\"currentColor\"/>\n",
       "    <text dy=\"1.25em\" style=\"font-size: 0.8em; letter-spacing: 1px\">\n",
       "        <textPath xlink:href=\"#arrow-16a3058469504dcc9b0ffd0941564769-0-1\" class=\"displacy-label\" startOffset=\"50%\" side=\"left\" fill=\"currentColor\" text-anchor=\"middle\">aux</textPath>\n",
       "    </text>\n",
       "    <path class=\"displacy-arrowhead\" d=\"M245,529.0 L237,517.0 253,517.0\" fill=\"currentColor\"/>\n",
       "</g>\n",
       "\n",
       "<g class=\"displacy-arrow\">\n",
       "    <path class=\"displacy-arc\" id=\"arrow-16a3058469504dcc9b0ffd0941564769-0-2\" stroke-width=\"2px\" d=\"M595,527.0 C595,439.5 725.0,439.5 725.0,527.0\" fill=\"none\" stroke=\"currentColor\"/>\n",
       "    <text dy=\"1.25em\" style=\"font-size: 0.8em; letter-spacing: 1px\">\n",
       "        <textPath xlink:href=\"#arrow-16a3058469504dcc9b0ffd0941564769-0-2\" class=\"displacy-label\" startOffset=\"50%\" side=\"left\" fill=\"currentColor\" text-anchor=\"middle\">aux</textPath>\n",
       "    </text>\n",
       "    <path class=\"displacy-arrowhead\" d=\"M595,529.0 L587,517.0 603,517.0\" fill=\"currentColor\"/>\n",
       "</g>\n",
       "\n",
       "<g class=\"displacy-arrow\">\n",
       "    <path class=\"displacy-arc\" id=\"arrow-16a3058469504dcc9b0ffd0941564769-0-3\" stroke-width=\"2px\" d=\"M420,527.0 C420,352.0 730.0,352.0 730.0,527.0\" fill=\"none\" stroke=\"currentColor\"/>\n",
       "    <text dy=\"1.25em\" style=\"font-size: 0.8em; letter-spacing: 1px\">\n",
       "        <textPath xlink:href=\"#arrow-16a3058469504dcc9b0ffd0941564769-0-3\" class=\"displacy-label\" startOffset=\"50%\" side=\"left\" fill=\"currentColor\" text-anchor=\"middle\">xcomp</textPath>\n",
       "    </text>\n",
       "    <path class=\"displacy-arrowhead\" d=\"M730.0,529.0 L738.0,517.0 722.0,517.0\" fill=\"currentColor\"/>\n",
       "</g>\n",
       "\n",
       "<g class=\"displacy-arrow\">\n",
       "    <path class=\"displacy-arc\" id=\"arrow-16a3058469504dcc9b0ffd0941564769-0-4\" stroke-width=\"2px\" d=\"M945,527.0 C945,352.0 1255.0,352.0 1255.0,527.0\" fill=\"none\" stroke=\"currentColor\"/>\n",
       "    <text dy=\"1.25em\" style=\"font-size: 0.8em; letter-spacing: 1px\">\n",
       "        <textPath xlink:href=\"#arrow-16a3058469504dcc9b0ffd0941564769-0-4\" class=\"displacy-label\" startOffset=\"50%\" side=\"left\" fill=\"currentColor\" text-anchor=\"middle\">det</textPath>\n",
       "    </text>\n",
       "    <path class=\"displacy-arrowhead\" d=\"M945,529.0 L937,517.0 953,517.0\" fill=\"currentColor\"/>\n",
       "</g>\n",
       "\n",
       "<g class=\"displacy-arrow\">\n",
       "    <path class=\"displacy-arc\" id=\"arrow-16a3058469504dcc9b0ffd0941564769-0-5\" stroke-width=\"2px\" d=\"M1120,527.0 C1120,439.5 1250.0,439.5 1250.0,527.0\" fill=\"none\" stroke=\"currentColor\"/>\n",
       "    <text dy=\"1.25em\" style=\"font-size: 0.8em; letter-spacing: 1px\">\n",
       "        <textPath xlink:href=\"#arrow-16a3058469504dcc9b0ffd0941564769-0-5\" class=\"displacy-label\" startOffset=\"50%\" side=\"left\" fill=\"currentColor\" text-anchor=\"middle\">compound</textPath>\n",
       "    </text>\n",
       "    <path class=\"displacy-arrowhead\" d=\"M1120,529.0 L1112,517.0 1128,517.0\" fill=\"currentColor\"/>\n",
       "</g>\n",
       "\n",
       "<g class=\"displacy-arrow\">\n",
       "    <path class=\"displacy-arc\" id=\"arrow-16a3058469504dcc9b0ffd0941564769-0-6\" stroke-width=\"2px\" d=\"M770,527.0 C770,264.5 1260.0,264.5 1260.0,527.0\" fill=\"none\" stroke=\"currentColor\"/>\n",
       "    <text dy=\"1.25em\" style=\"font-size: 0.8em; letter-spacing: 1px\">\n",
       "        <textPath xlink:href=\"#arrow-16a3058469504dcc9b0ffd0941564769-0-6\" class=\"displacy-label\" startOffset=\"50%\" side=\"left\" fill=\"currentColor\" text-anchor=\"middle\">dobj</textPath>\n",
       "    </text>\n",
       "    <path class=\"displacy-arrowhead\" d=\"M1260.0,529.0 L1268.0,517.0 1252.0,517.0\" fill=\"currentColor\"/>\n",
       "</g>\n",
       "\n",
       "<g class=\"displacy-arrow\">\n",
       "    <path class=\"displacy-arc\" id=\"arrow-16a3058469504dcc9b0ffd0941564769-0-7\" stroke-width=\"2px\" d=\"M770,527.0 C770,177.0 1440.0,177.0 1440.0,527.0\" fill=\"none\" stroke=\"currentColor\"/>\n",
       "    <text dy=\"1.25em\" style=\"font-size: 0.8em; letter-spacing: 1px\">\n",
       "        <textPath xlink:href=\"#arrow-16a3058469504dcc9b0ffd0941564769-0-7\" class=\"displacy-label\" startOffset=\"50%\" side=\"left\" fill=\"currentColor\" text-anchor=\"middle\">prep</textPath>\n",
       "    </text>\n",
       "    <path class=\"displacy-arrowhead\" d=\"M1440.0,529.0 L1448.0,517.0 1432.0,517.0\" fill=\"currentColor\"/>\n",
       "</g>\n",
       "\n",
       "<g class=\"displacy-arrow\">\n",
       "    <path class=\"displacy-arc\" id=\"arrow-16a3058469504dcc9b0ffd0941564769-0-8\" stroke-width=\"2px\" d=\"M1645,527.0 C1645,439.5 1775.0,439.5 1775.0,527.0\" fill=\"none\" stroke=\"currentColor\"/>\n",
       "    <text dy=\"1.25em\" style=\"font-size: 0.8em; letter-spacing: 1px\">\n",
       "        <textPath xlink:href=\"#arrow-16a3058469504dcc9b0ffd0941564769-0-8\" class=\"displacy-label\" startOffset=\"50%\" side=\"left\" fill=\"currentColor\" text-anchor=\"middle\">det</textPath>\n",
       "    </text>\n",
       "    <path class=\"displacy-arrowhead\" d=\"M1645,529.0 L1637,517.0 1653,517.0\" fill=\"currentColor\"/>\n",
       "</g>\n",
       "\n",
       "<g class=\"displacy-arrow\">\n",
       "    <path class=\"displacy-arc\" id=\"arrow-16a3058469504dcc9b0ffd0941564769-0-9\" stroke-width=\"2px\" d=\"M1470,527.0 C1470,352.0 1780.0,352.0 1780.0,527.0\" fill=\"none\" stroke=\"currentColor\"/>\n",
       "    <text dy=\"1.25em\" style=\"font-size: 0.8em; letter-spacing: 1px\">\n",
       "        <textPath xlink:href=\"#arrow-16a3058469504dcc9b0ffd0941564769-0-9\" class=\"displacy-label\" startOffset=\"50%\" side=\"left\" fill=\"currentColor\" text-anchor=\"middle\">pobj</textPath>\n",
       "    </text>\n",
       "    <path class=\"displacy-arrowhead\" d=\"M1780.0,529.0 L1788.0,517.0 1772.0,517.0\" fill=\"currentColor\"/>\n",
       "</g>\n",
       "\n",
       "<g class=\"displacy-arrow\">\n",
       "    <path class=\"displacy-arc\" id=\"arrow-16a3058469504dcc9b0ffd0941564769-0-10\" stroke-width=\"2px\" d=\"M1820,527.0 C1820,439.5 1950.0,439.5 1950.0,527.0\" fill=\"none\" stroke=\"currentColor\"/>\n",
       "    <text dy=\"1.25em\" style=\"font-size: 0.8em; letter-spacing: 1px\">\n",
       "        <textPath xlink:href=\"#arrow-16a3058469504dcc9b0ffd0941564769-0-10\" class=\"displacy-label\" startOffset=\"50%\" side=\"left\" fill=\"currentColor\" text-anchor=\"middle\">cc</textPath>\n",
       "    </text>\n",
       "    <path class=\"displacy-arrowhead\" d=\"M1950.0,529.0 L1958.0,517.0 1942.0,517.0\" fill=\"currentColor\"/>\n",
       "</g>\n",
       "\n",
       "<g class=\"displacy-arrow\">\n",
       "    <path class=\"displacy-arc\" id=\"arrow-16a3058469504dcc9b0ffd0941564769-0-11\" stroke-width=\"2px\" d=\"M2170,527.0 C2170,264.5 3010.0,264.5 3010.0,527.0\" fill=\"none\" stroke=\"currentColor\"/>\n",
       "    <text dy=\"1.25em\" style=\"font-size: 0.8em; letter-spacing: 1px\">\n",
       "        <textPath xlink:href=\"#arrow-16a3058469504dcc9b0ffd0941564769-0-11\" class=\"displacy-label\" startOffset=\"50%\" side=\"left\" fill=\"currentColor\" text-anchor=\"middle\">det</textPath>\n",
       "    </text>\n",
       "    <path class=\"displacy-arrowhead\" d=\"M2170,529.0 L2162,517.0 2178,517.0\" fill=\"currentColor\"/>\n",
       "</g>\n",
       "\n",
       "<g class=\"displacy-arrow\">\n",
       "    <path class=\"displacy-arc\" id=\"arrow-16a3058469504dcc9b0ffd0941564769-0-12\" stroke-width=\"2px\" d=\"M2345,527.0 C2345,352.0 3005.0,352.0 3005.0,527.0\" fill=\"none\" stroke=\"currentColor\"/>\n",
       "    <text dy=\"1.25em\" style=\"font-size: 0.8em; letter-spacing: 1px\">\n",
       "        <textPath xlink:href=\"#arrow-16a3058469504dcc9b0ffd0941564769-0-12\" class=\"displacy-label\" startOffset=\"50%\" side=\"left\" fill=\"currentColor\" text-anchor=\"middle\">compound</textPath>\n",
       "    </text>\n",
       "    <path class=\"displacy-arrowhead\" d=\"M2345,529.0 L2337,517.0 2353,517.0\" fill=\"currentColor\"/>\n",
       "</g>\n",
       "\n",
       "<g class=\"displacy-arrow\">\n",
       "    <path class=\"displacy-arc\" id=\"arrow-16a3058469504dcc9b0ffd0941564769-0-13\" stroke-width=\"2px\" d=\"M2520,527.0 C2520,439.5 2650.0,439.5 2650.0,527.0\" fill=\"none\" stroke=\"currentColor\"/>\n",
       "    <text dy=\"1.25em\" style=\"font-size: 0.8em; letter-spacing: 1px\">\n",
       "        <textPath xlink:href=\"#arrow-16a3058469504dcc9b0ffd0941564769-0-13\" class=\"displacy-label\" startOffset=\"50%\" side=\"left\" fill=\"currentColor\" text-anchor=\"middle\">compound</textPath>\n",
       "    </text>\n",
       "    <path class=\"displacy-arrowhead\" d=\"M2520,529.0 L2512,517.0 2528,517.0\" fill=\"currentColor\"/>\n",
       "</g>\n",
       "\n",
       "<g class=\"displacy-arrow\">\n",
       "    <path class=\"displacy-arc\" id=\"arrow-16a3058469504dcc9b0ffd0941564769-0-14\" stroke-width=\"2px\" d=\"M2695,527.0 C2695,439.5 2825.0,439.5 2825.0,527.0\" fill=\"none\" stroke=\"currentColor\"/>\n",
       "    <text dy=\"1.25em\" style=\"font-size: 0.8em; letter-spacing: 1px\">\n",
       "        <textPath xlink:href=\"#arrow-16a3058469504dcc9b0ffd0941564769-0-14\" class=\"displacy-label\" startOffset=\"50%\" side=\"left\" fill=\"currentColor\" text-anchor=\"middle\">compound</textPath>\n",
       "    </text>\n",
       "    <path class=\"displacy-arrowhead\" d=\"M2695,529.0 L2687,517.0 2703,517.0\" fill=\"currentColor\"/>\n",
       "</g>\n",
       "\n",
       "<g class=\"displacy-arrow\">\n",
       "    <path class=\"displacy-arc\" id=\"arrow-16a3058469504dcc9b0ffd0941564769-0-15\" stroke-width=\"2px\" d=\"M2870,527.0 C2870,439.5 3000.0,439.5 3000.0,527.0\" fill=\"none\" stroke=\"currentColor\"/>\n",
       "    <text dy=\"1.25em\" style=\"font-size: 0.8em; letter-spacing: 1px\">\n",
       "        <textPath xlink:href=\"#arrow-16a3058469504dcc9b0ffd0941564769-0-15\" class=\"displacy-label\" startOffset=\"50%\" side=\"left\" fill=\"currentColor\" text-anchor=\"middle\">compound</textPath>\n",
       "    </text>\n",
       "    <path class=\"displacy-arrowhead\" d=\"M2870,529.0 L2862,517.0 2878,517.0\" fill=\"currentColor\"/>\n",
       "</g>\n",
       "\n",
       "<g class=\"displacy-arrow\">\n",
       "    <path class=\"displacy-arc\" id=\"arrow-16a3058469504dcc9b0ffd0941564769-0-16\" stroke-width=\"2px\" d=\"M1820,527.0 C1820,177.0 3015.0,177.0 3015.0,527.0\" fill=\"none\" stroke=\"currentColor\"/>\n",
       "    <text dy=\"1.25em\" style=\"font-size: 0.8em; letter-spacing: 1px\">\n",
       "        <textPath xlink:href=\"#arrow-16a3058469504dcc9b0ffd0941564769-0-16\" class=\"displacy-label\" startOffset=\"50%\" side=\"left\" fill=\"currentColor\" text-anchor=\"middle\">conj</textPath>\n",
       "    </text>\n",
       "    <path class=\"displacy-arrowhead\" d=\"M3015.0,529.0 L3023.0,517.0 3007.0,517.0\" fill=\"currentColor\"/>\n",
       "</g>\n",
       "\n",
       "<g class=\"displacy-arrow\">\n",
       "    <path class=\"displacy-arc\" id=\"arrow-16a3058469504dcc9b0ffd0941564769-0-17\" stroke-width=\"2px\" d=\"M1470,527.0 C1470,89.5 3195.0,89.5 3195.0,527.0\" fill=\"none\" stroke=\"currentColor\"/>\n",
       "    <text dy=\"1.25em\" style=\"font-size: 0.8em; letter-spacing: 1px\">\n",
       "        <textPath xlink:href=\"#arrow-16a3058469504dcc9b0ffd0941564769-0-17\" class=\"displacy-label\" startOffset=\"50%\" side=\"left\" fill=\"currentColor\" text-anchor=\"middle\">cc</textPath>\n",
       "    </text>\n",
       "    <path class=\"displacy-arrowhead\" d=\"M3195.0,529.0 L3203.0,517.0 3187.0,517.0\" fill=\"currentColor\"/>\n",
       "</g>\n",
       "\n",
       "<g class=\"displacy-arrow\">\n",
       "    <path class=\"displacy-arc\" id=\"arrow-16a3058469504dcc9b0ffd0941564769-0-18\" stroke-width=\"2px\" d=\"M1470,527.0 C1470,2.0 3375.0,2.0 3375.0,527.0\" fill=\"none\" stroke=\"currentColor\"/>\n",
       "    <text dy=\"1.25em\" style=\"font-size: 0.8em; letter-spacing: 1px\">\n",
       "        <textPath xlink:href=\"#arrow-16a3058469504dcc9b0ffd0941564769-0-18\" class=\"displacy-label\" startOffset=\"50%\" side=\"left\" fill=\"currentColor\" text-anchor=\"middle\">conj</textPath>\n",
       "    </text>\n",
       "    <path class=\"displacy-arrowhead\" d=\"M3375.0,529.0 L3383.0,517.0 3367.0,517.0\" fill=\"currentColor\"/>\n",
       "</g>\n",
       "\n",
       "<g class=\"displacy-arrow\">\n",
       "    <path class=\"displacy-arc\" id=\"arrow-16a3058469504dcc9b0ffd0941564769-0-19\" stroke-width=\"2px\" d=\"M3570,527.0 C3570,264.5 4060.0,264.5 4060.0,527.0\" fill=\"none\" stroke=\"currentColor\"/>\n",
       "    <text dy=\"1.25em\" style=\"font-size: 0.8em; letter-spacing: 1px\">\n",
       "        <textPath xlink:href=\"#arrow-16a3058469504dcc9b0ffd0941564769-0-19\" class=\"displacy-label\" startOffset=\"50%\" side=\"left\" fill=\"currentColor\" text-anchor=\"middle\">det</textPath>\n",
       "    </text>\n",
       "    <path class=\"displacy-arrowhead\" d=\"M3570,529.0 L3562,517.0 3578,517.0\" fill=\"currentColor\"/>\n",
       "</g>\n",
       "\n",
       "<g class=\"displacy-arrow\">\n",
       "    <path class=\"displacy-arc\" id=\"arrow-16a3058469504dcc9b0ffd0941564769-0-20\" stroke-width=\"2px\" d=\"M3745,527.0 C3745,352.0 4055.0,352.0 4055.0,527.0\" fill=\"none\" stroke=\"currentColor\"/>\n",
       "    <text dy=\"1.25em\" style=\"font-size: 0.8em; letter-spacing: 1px\">\n",
       "        <textPath xlink:href=\"#arrow-16a3058469504dcc9b0ffd0941564769-0-20\" class=\"displacy-label\" startOffset=\"50%\" side=\"left\" fill=\"currentColor\" text-anchor=\"middle\">compound</textPath>\n",
       "    </text>\n",
       "    <path class=\"displacy-arrowhead\" d=\"M3745,529.0 L3737,517.0 3753,517.0\" fill=\"currentColor\"/>\n",
       "</g>\n",
       "\n",
       "<g class=\"displacy-arrow\">\n",
       "    <path class=\"displacy-arc\" id=\"arrow-16a3058469504dcc9b0ffd0941564769-0-21\" stroke-width=\"2px\" d=\"M3920,527.0 C3920,439.5 4050.0,439.5 4050.0,527.0\" fill=\"none\" stroke=\"currentColor\"/>\n",
       "    <text dy=\"1.25em\" style=\"font-size: 0.8em; letter-spacing: 1px\">\n",
       "        <textPath xlink:href=\"#arrow-16a3058469504dcc9b0ffd0941564769-0-21\" class=\"displacy-label\" startOffset=\"50%\" side=\"left\" fill=\"currentColor\" text-anchor=\"middle\">compound</textPath>\n",
       "    </text>\n",
       "    <path class=\"displacy-arrowhead\" d=\"M3920,529.0 L3912,517.0 3928,517.0\" fill=\"currentColor\"/>\n",
       "</g>\n",
       "\n",
       "<g class=\"displacy-arrow\">\n",
       "    <path class=\"displacy-arc\" id=\"arrow-16a3058469504dcc9b0ffd0941564769-0-22\" stroke-width=\"2px\" d=\"M3395,527.0 C3395,177.0 4065.0,177.0 4065.0,527.0\" fill=\"none\" stroke=\"currentColor\"/>\n",
       "    <text dy=\"1.25em\" style=\"font-size: 0.8em; letter-spacing: 1px\">\n",
       "        <textPath xlink:href=\"#arrow-16a3058469504dcc9b0ffd0941564769-0-22\" class=\"displacy-label\" startOffset=\"50%\" side=\"left\" fill=\"currentColor\" text-anchor=\"middle\">pobj</textPath>\n",
       "    </text>\n",
       "    <path class=\"displacy-arrowhead\" d=\"M4065.0,529.0 L4073.0,517.0 4057.0,517.0\" fill=\"currentColor\"/>\n",
       "</g>\n",
       "\n",
       "<g class=\"displacy-arrow\">\n",
       "    <path class=\"displacy-arc\" id=\"arrow-16a3058469504dcc9b0ffd0941564769-0-23\" stroke-width=\"2px\" d=\"M4095,527.0 C4095,439.5 4225.0,439.5 4225.0,527.0\" fill=\"none\" stroke=\"currentColor\"/>\n",
       "    <text dy=\"1.25em\" style=\"font-size: 0.8em; letter-spacing: 1px\">\n",
       "        <textPath xlink:href=\"#arrow-16a3058469504dcc9b0ffd0941564769-0-23\" class=\"displacy-label\" startOffset=\"50%\" side=\"left\" fill=\"currentColor\" text-anchor=\"middle\">cc</textPath>\n",
       "    </text>\n",
       "    <path class=\"displacy-arrowhead\" d=\"M4225.0,529.0 L4233.0,517.0 4217.0,517.0\" fill=\"currentColor\"/>\n",
       "</g>\n",
       "\n",
       "<g class=\"displacy-arrow\">\n",
       "    <path class=\"displacy-arc\" id=\"arrow-16a3058469504dcc9b0ffd0941564769-0-24\" stroke-width=\"2px\" d=\"M4445,527.0 C4445,439.5 4575.0,439.5 4575.0,527.0\" fill=\"none\" stroke=\"currentColor\"/>\n",
       "    <text dy=\"1.25em\" style=\"font-size: 0.8em; letter-spacing: 1px\">\n",
       "        <textPath xlink:href=\"#arrow-16a3058469504dcc9b0ffd0941564769-0-24\" class=\"displacy-label\" startOffset=\"50%\" side=\"left\" fill=\"currentColor\" text-anchor=\"middle\">amod</textPath>\n",
       "    </text>\n",
       "    <path class=\"displacy-arrowhead\" d=\"M4445,529.0 L4437,517.0 4453,517.0\" fill=\"currentColor\"/>\n",
       "</g>\n",
       "\n",
       "<g class=\"displacy-arrow\">\n",
       "    <path class=\"displacy-arc\" id=\"arrow-16a3058469504dcc9b0ffd0941564769-0-25\" stroke-width=\"2px\" d=\"M4620,527.0 C4620,439.5 4750.0,439.5 4750.0,527.0\" fill=\"none\" stroke=\"currentColor\"/>\n",
       "    <text dy=\"1.25em\" style=\"font-size: 0.8em; letter-spacing: 1px\">\n",
       "        <textPath xlink:href=\"#arrow-16a3058469504dcc9b0ffd0941564769-0-25\" class=\"displacy-label\" startOffset=\"50%\" side=\"left\" fill=\"currentColor\" text-anchor=\"middle\">compound</textPath>\n",
       "    </text>\n",
       "    <path class=\"displacy-arrowhead\" d=\"M4620,529.0 L4612,517.0 4628,517.0\" fill=\"currentColor\"/>\n",
       "</g>\n",
       "\n",
       "<g class=\"displacy-arrow\">\n",
       "    <path class=\"displacy-arc\" id=\"arrow-16a3058469504dcc9b0ffd0941564769-0-26\" stroke-width=\"2px\" d=\"M4095,527.0 C4095,352.0 4755.0,352.0 4755.0,527.0\" fill=\"none\" stroke=\"currentColor\"/>\n",
       "    <text dy=\"1.25em\" style=\"font-size: 0.8em; letter-spacing: 1px\">\n",
       "        <textPath xlink:href=\"#arrow-16a3058469504dcc9b0ffd0941564769-0-26\" class=\"displacy-label\" startOffset=\"50%\" side=\"left\" fill=\"currentColor\" text-anchor=\"middle\">conj</textPath>\n",
       "    </text>\n",
       "    <path class=\"displacy-arrowhead\" d=\"M4755.0,529.0 L4763.0,517.0 4747.0,517.0\" fill=\"currentColor\"/>\n",
       "</g>\n",
       "\n",
       "<g class=\"displacy-arrow\">\n",
       "    <path class=\"displacy-arc\" id=\"arrow-16a3058469504dcc9b0ffd0941564769-0-27\" stroke-width=\"2px\" d=\"M4095,527.0 C4095,264.5 4935.0,264.5 4935.0,527.0\" fill=\"none\" stroke=\"currentColor\"/>\n",
       "    <text dy=\"1.25em\" style=\"font-size: 0.8em; letter-spacing: 1px\">\n",
       "        <textPath xlink:href=\"#arrow-16a3058469504dcc9b0ffd0941564769-0-27\" class=\"displacy-label\" startOffset=\"50%\" side=\"left\" fill=\"currentColor\" text-anchor=\"middle\">prep</textPath>\n",
       "    </text>\n",
       "    <path class=\"displacy-arrowhead\" d=\"M4935.0,529.0 L4943.0,517.0 4927.0,517.0\" fill=\"currentColor\"/>\n",
       "</g>\n",
       "\n",
       "<g class=\"displacy-arrow\">\n",
       "    <path class=\"displacy-arc\" id=\"arrow-16a3058469504dcc9b0ffd0941564769-0-28\" stroke-width=\"2px\" d=\"M5145,527.0 C5145,439.5 5275.0,439.5 5275.0,527.0\" fill=\"none\" stroke=\"currentColor\"/>\n",
       "    <text dy=\"1.25em\" style=\"font-size: 0.8em; letter-spacing: 1px\">\n",
       "        <textPath xlink:href=\"#arrow-16a3058469504dcc9b0ffd0941564769-0-28\" class=\"displacy-label\" startOffset=\"50%\" side=\"left\" fill=\"currentColor\" text-anchor=\"middle\">amod</textPath>\n",
       "    </text>\n",
       "    <path class=\"displacy-arrowhead\" d=\"M5145,529.0 L5137,517.0 5153,517.0\" fill=\"currentColor\"/>\n",
       "</g>\n",
       "\n",
       "<g class=\"displacy-arrow\">\n",
       "    <path class=\"displacy-arc\" id=\"arrow-16a3058469504dcc9b0ffd0941564769-0-29\" stroke-width=\"2px\" d=\"M4970,527.0 C4970,352.0 5280.0,352.0 5280.0,527.0\" fill=\"none\" stroke=\"currentColor\"/>\n",
       "    <text dy=\"1.25em\" style=\"font-size: 0.8em; letter-spacing: 1px\">\n",
       "        <textPath xlink:href=\"#arrow-16a3058469504dcc9b0ffd0941564769-0-29\" class=\"displacy-label\" startOffset=\"50%\" side=\"left\" fill=\"currentColor\" text-anchor=\"middle\">pobj</textPath>\n",
       "    </text>\n",
       "    <path class=\"displacy-arrowhead\" d=\"M5280.0,529.0 L5288.0,517.0 5272.0,517.0\" fill=\"currentColor\"/>\n",
       "</g>\n",
       "\n",
       "<g class=\"displacy-arrow\">\n",
       "    <path class=\"displacy-arc\" id=\"arrow-16a3058469504dcc9b0ffd0941564769-0-30\" stroke-width=\"2px\" d=\"M5320,527.0 C5320,439.5 5450.0,439.5 5450.0,527.0\" fill=\"none\" stroke=\"currentColor\"/>\n",
       "    <text dy=\"1.25em\" style=\"font-size: 0.8em; letter-spacing: 1px\">\n",
       "        <textPath xlink:href=\"#arrow-16a3058469504dcc9b0ffd0941564769-0-30\" class=\"displacy-label\" startOffset=\"50%\" side=\"left\" fill=\"currentColor\" text-anchor=\"middle\">nummod</textPath>\n",
       "    </text>\n",
       "    <path class=\"displacy-arrowhead\" d=\"M5450.0,529.0 L5458.0,517.0 5442.0,517.0\" fill=\"currentColor\"/>\n",
       "</g>\n",
       "\n",
       "<g class=\"displacy-arrow\">\n",
       "    <path class=\"displacy-arc\" id=\"arrow-16a3058469504dcc9b0ffd0941564769-0-31\" stroke-width=\"2px\" d=\"M5845,527.0 C5845,439.5 5975.0,439.5 5975.0,527.0\" fill=\"none\" stroke=\"currentColor\"/>\n",
       "    <text dy=\"1.25em\" style=\"font-size: 0.8em; letter-spacing: 1px\">\n",
       "        <textPath xlink:href=\"#arrow-16a3058469504dcc9b0ffd0941564769-0-31\" class=\"displacy-label\" startOffset=\"50%\" side=\"left\" fill=\"currentColor\" text-anchor=\"middle\">det</textPath>\n",
       "    </text>\n",
       "    <path class=\"displacy-arrowhead\" d=\"M5845,529.0 L5837,517.0 5853,517.0\" fill=\"currentColor\"/>\n",
       "</g>\n",
       "\n",
       "<g class=\"displacy-arrow\">\n",
       "    <path class=\"displacy-arc\" id=\"arrow-16a3058469504dcc9b0ffd0941564769-0-32\" stroke-width=\"2px\" d=\"M5670,527.0 C5670,352.0 5980.0,352.0 5980.0,527.0\" fill=\"none\" stroke=\"currentColor\"/>\n",
       "    <text dy=\"1.25em\" style=\"font-size: 0.8em; letter-spacing: 1px\">\n",
       "        <textPath xlink:href=\"#arrow-16a3058469504dcc9b0ffd0941564769-0-32\" class=\"displacy-label\" startOffset=\"50%\" side=\"left\" fill=\"currentColor\" text-anchor=\"middle\">nsubj</textPath>\n",
       "    </text>\n",
       "    <path class=\"displacy-arrowhead\" d=\"M5980.0,529.0 L5988.0,517.0 5972.0,517.0\" fill=\"currentColor\"/>\n",
       "</g>\n",
       "\n",
       "<g class=\"displacy-arrow\">\n",
       "    <path class=\"displacy-arc\" id=\"arrow-16a3058469504dcc9b0ffd0941564769-0-33\" stroke-width=\"2px\" d=\"M6020,527.0 C6020,439.5 6150.0,439.5 6150.0,527.0\" fill=\"none\" stroke=\"currentColor\"/>\n",
       "    <text dy=\"1.25em\" style=\"font-size: 0.8em; letter-spacing: 1px\">\n",
       "        <textPath xlink:href=\"#arrow-16a3058469504dcc9b0ffd0941564769-0-33\" class=\"displacy-label\" startOffset=\"50%\" side=\"left\" fill=\"currentColor\" text-anchor=\"middle\">amod</textPath>\n",
       "    </text>\n",
       "    <path class=\"displacy-arrowhead\" d=\"M6150.0,529.0 L6158.0,517.0 6142.0,517.0\" fill=\"currentColor\"/>\n",
       "</g>\n",
       "</svg></span>"
      ],
      "text/plain": [
       "<IPython.core.display.HTML object>"
      ]
     },
     "metadata": {},
     "output_type": "display_data"
    }
   ],
   "source": [
    "import spacy\n",
    "from spacy import displacy\n",
    "nlp = spacy.load(\"en_core_web_sm\")\n",
    "\n",
    "# text = \"Hello, is the M8 available without a panorama glass roof and with the EU Comfort Package. I need the vehicle on the 8th of November 2024\"\n",
    "text = 'I am planning to order the BMW M8 with a sunroof or a panorama glass roof sky lounge or with the M Sport Package or right-hand drive on 12th April 2018. Is this configuration possible?'\n",
    "# text = \"I want to order a BMW iX with right-hand drive configuration. I will be ordering it at the start of October 2022.\"\n",
    "# text = \"I want to order a BMW iX. Please don't add a right-hand drive configuration. I will be ordering it at the start of October 2022.\"\n",
    "# text = \"I want to order a BMW iX. I do not want a right-hand drive configuration. I will be ordering it at the start of October 2022.\"\n",
    "\n",
    "doc = nlp(text)\n",
    "displacy.render(doc, style = \"dep\")"
   ]
  },
  {
   "attachments": {},
   "cell_type": "markdown",
   "metadata": {},
   "source": [
    "- Most of these keywords look like they are compound NOUNS or PROPNs. Some are joined with amod though (like the model names or ones separated with -).\n",
    "- The one with \"panorama glass roof sky lounge\" is giving a wierd compound structure (this can be solved with some recursive function to extract the compounds).\n",
    "\n",
    "- This is also going to require some sort of reduction as the lookup function for compound words create redundant lists. We can check if a term is a subset of another term and if yes, we can remove them.\n",
    "\n",
    "- The with/without etc are ADP and can directly be taken form the head of the NOUN/PROPN. That gives me my and/and not boolean logic. (However, due to some grammatical mistake, the head might not end up being a directy with or without. Here, I'll need to find some way to determine whether the head has a positive or negative connotation.)\n",
    "\n",
    "- Now about OR. <b>Here is an idea </b>. You technically cannot ask for two configuration for the same thing (like sunroof and panaroma glass roof). So say if I find two things that belong to the roof configuration, they'll go into a bracket with OR/OR-NOT. (To reinforce this however, I can check for the any child conjugations that these terms have).\n",
    "\n",
    "- Another observation: If the sentence is A or B, then the head of A is usually wrong. If both belong to the same class, we can assume both have the same head as the one for B."
   ]
  },
  {
   "cell_type": "code",
   "execution_count": 10,
   "metadata": {},
   "outputs": [],
   "source": [
    "from pos_tagging import *"
   ]
  },
  {
   "cell_type": "code",
   "execution_count": 11,
   "metadata": {},
   "outputs": [
    {
     "name": "stdout",
     "output_type": "stream",
     "text": [
      "Prompt:  Hello, is the M8 available without a panorama glass roof and with the EU Comfort Package. I need the vehicle on the 8th of November 2024 \n",
      "\n",
      "{'values': [available, M8], 'main_token': M8, 'text': 'available M8', 'child_conj': [], 'head_conj': [], 'pos': 'NOUN', 'dep': 'attr', 'head': is}\n",
      "{'values': [panorama], 'main_token': panorama, 'text': 'panorama', 'child_conj': [], 'head_conj': [], 'pos': 'NOUN', 'dep': 'compound', 'head': roof}\n",
      "{'values': [glass], 'main_token': glass, 'text': 'glass', 'child_conj': [], 'head_conj': [], 'pos': 'NOUN', 'dep': 'compound', 'head': roof}\n",
      "{'values': [panorama, glass, roof], 'main_token': roof, 'text': 'panorama glass roof', 'child_conj': [], 'head_conj': [and], 'pos': 'NOUN', 'dep': 'pobj', 'head': without}\n",
      "{'values': [EU], 'main_token': EU, 'text': 'EU', 'child_conj': [], 'head_conj': [], 'pos': 'PROPN', 'dep': 'compound', 'head': Package}\n",
      "{'values': [Comfort], 'main_token': Comfort, 'text': 'Comfort', 'child_conj': [], 'head_conj': [], 'pos': 'PROPN', 'dep': 'compound', 'head': Package}\n",
      "{'values': [EU, Comfort, Package], 'main_token': Package, 'text': 'EU Comfort Package', 'child_conj': [], 'head_conj': [], 'pos': 'PROPN', 'dep': 'pobj', 'head': with}\n",
      "{'values': [vehicle], 'main_token': vehicle, 'text': 'vehicle', 'child_conj': [], 'head_conj': [], 'pos': 'NOUN', 'dep': 'dobj', 'head': need}\n",
      "{'values': [8th], 'main_token': 8th, 'text': '8th', 'child_conj': [], 'head_conj': [], 'pos': 'NOUN', 'dep': 'pobj', 'head': on}\n",
      "{'values': [November], 'main_token': November, 'text': 'November', 'child_conj': [], 'head_conj': [], 'pos': 'PROPN', 'dep': 'pobj', 'head': of}\n",
      "\n",
      "------------------\n",
      "Unique:\n",
      "{'values': [available, M8], 'main_token': M8, 'text': 'available M8', 'child_conj': [], 'head_conj': [], 'pos': 'NOUN', 'dep': 'attr', 'head': is}\n",
      "{'values': [panorama, glass, roof], 'main_token': roof, 'text': 'panorama glass roof', 'child_conj': [], 'head_conj': [and], 'pos': 'NOUN', 'dep': 'pobj', 'head': without}\n",
      "{'values': [EU, Comfort, Package], 'main_token': Package, 'text': 'EU Comfort Package', 'child_conj': [], 'head_conj': [], 'pos': 'PROPN', 'dep': 'pobj', 'head': with}\n",
      "{'values': [vehicle], 'main_token': vehicle, 'text': 'vehicle', 'child_conj': [], 'head_conj': [], 'pos': 'NOUN', 'dep': 'dobj', 'head': need}\n",
      "{'values': [8th], 'main_token': 8th, 'text': '8th', 'child_conj': [], 'head_conj': [], 'pos': 'NOUN', 'dep': 'pobj', 'head': on}\n",
      "{'values': [November], 'main_token': November, 'text': 'November', 'child_conj': [], 'head_conj': [], 'pos': 'PROPN', 'dep': 'pobj', 'head': of}\n",
      "\n",
      "\n",
      "\n",
      "\n",
      "Prompt:  I am planning to order the BMW M8 with a sunroof or a panorama glass roof sky lounge along with the M Sport Package and right-hand drive on 12th April 2018. Is this configuration possible? \n",
      "\n",
      "{'values': [BMW], 'main_token': BMW, 'text': 'BMW', 'child_conj': [], 'head_conj': [], 'pos': 'PROPN', 'dep': 'compound', 'head': M8}\n",
      "{'values': [BMW, M8], 'main_token': M8, 'text': 'BMW M8', 'child_conj': [], 'head_conj': [], 'pos': 'PROPN', 'dep': 'dobj', 'head': order}\n",
      "{'values': [sunroof], 'main_token': sunroof, 'text': 'sunroof', 'child_conj': [or], 'head_conj': [], 'pos': 'NOUN', 'dep': 'pobj', 'head': with}\n",
      "{'values': [panorama], 'main_token': panorama, 'text': 'panorama', 'child_conj': [], 'head_conj': [], 'pos': 'NOUN', 'dep': 'compound', 'head': lounge}\n",
      "{'values': [glass], 'main_token': glass, 'text': 'glass', 'child_conj': [], 'head_conj': [], 'pos': 'NOUN', 'dep': 'compound', 'head': roof}\n",
      "{'values': [glass, roof], 'main_token': roof, 'text': 'glass roof', 'child_conj': [], 'head_conj': [], 'pos': 'NOUN', 'dep': 'compound', 'head': sky}\n",
      "{'values': [glass, roof, sky], 'main_token': sky, 'text': 'glass roof sky', 'child_conj': [], 'head_conj': [], 'pos': 'NOUN', 'dep': 'compound', 'head': lounge}\n",
      "{'values': [panorama, glass, roof, sky, lounge], 'main_token': lounge, 'text': 'panorama glass roof sky lounge', 'child_conj': [], 'head_conj': [or], 'pos': 'NOUN', 'dep': 'conj', 'head': sunroof}\n",
      "{'values': [M], 'main_token': M, 'text': 'M', 'child_conj': [], 'head_conj': [and], 'pos': 'PROPN', 'dep': 'compound', 'head': Package}\n",
      "{'values': [Sport], 'main_token': Sport, 'text': 'Sport', 'child_conj': [], 'head_conj': [and], 'pos': 'PROPN', 'dep': 'compound', 'head': Package}\n",
      "{'values': [M, Sport, Package], 'main_token': Package, 'text': 'M Sport Package', 'child_conj': [and], 'head_conj': [], 'pos': 'PROPN', 'dep': 'pobj', 'head': with}\n",
      "{'values': [right, hand], 'main_token': hand, 'text': 'right hand', 'child_conj': [], 'head_conj': [], 'pos': 'NOUN', 'dep': 'compound', 'head': drive}\n",
      "{'values': [right, hand, drive], 'main_token': drive, 'text': 'right hand drive', 'child_conj': [], 'head_conj': [and], 'pos': 'NOUN', 'dep': 'conj', 'head': Package}\n",
      "{'values': [12th, April], 'main_token': April, 'text': '12th April', 'child_conj': [], 'head_conj': [], 'pos': 'PROPN', 'dep': 'pobj', 'head': on}\n",
      "{'values': [possible, configuration], 'main_token': configuration, 'text': 'possible configuration', 'child_conj': [], 'head_conj': [], 'pos': 'NOUN', 'dep': 'nsubj', 'head': Is}\n",
      "\n",
      "------------------\n",
      "Unique:\n",
      "{'values': [BMW, M8], 'main_token': M8, 'text': 'BMW M8', 'child_conj': [], 'head_conj': [], 'pos': 'PROPN', 'dep': 'dobj', 'head': order}\n",
      "{'values': [sunroof], 'main_token': sunroof, 'text': 'sunroof', 'child_conj': [or], 'head_conj': [], 'pos': 'NOUN', 'dep': 'pobj', 'head': with}\n",
      "{'values': [panorama, glass, roof, sky, lounge], 'main_token': lounge, 'text': 'panorama glass roof sky lounge', 'child_conj': [], 'head_conj': [or], 'pos': 'NOUN', 'dep': 'conj', 'head': sunroof}\n",
      "{'values': [M, Sport, Package], 'main_token': Package, 'text': 'M Sport Package', 'child_conj': [and], 'head_conj': [], 'pos': 'PROPN', 'dep': 'pobj', 'head': with}\n",
      "{'values': [right, hand, drive], 'main_token': drive, 'text': 'right hand drive', 'child_conj': [], 'head_conj': [and], 'pos': 'NOUN', 'dep': 'conj', 'head': Package}\n",
      "{'values': [12th, April], 'main_token': April, 'text': '12th April', 'child_conj': [], 'head_conj': [], 'pos': 'PROPN', 'dep': 'pobj', 'head': on}\n",
      "{'values': [possible, configuration], 'main_token': configuration, 'text': 'possible configuration', 'child_conj': [], 'head_conj': [], 'pos': 'NOUN', 'dep': 'nsubj', 'head': Is}\n",
      "\n",
      "\n",
      "\n",
      "\n",
      "Prompt:  I want to order a BMW iX with right-hand drive configuration. I will be ordering it at the start of October 2022. \n",
      "\n",
      "{'values': [BMW], 'main_token': BMW, 'text': 'BMW', 'child_conj': [], 'head_conj': [], 'pos': 'PROPN', 'dep': 'compound', 'head': iX}\n",
      "{'values': [BMW, iX], 'main_token': iX, 'text': 'BMW iX', 'child_conj': [], 'head_conj': [], 'pos': 'PRON', 'dep': 'dobj', 'head': order}\n",
      "{'values': [right, hand], 'main_token': hand, 'text': 'right hand', 'child_conj': [], 'head_conj': [], 'pos': 'NOUN', 'dep': 'compound', 'head': configuration}\n",
      "{'values': [drive], 'main_token': drive, 'text': 'drive', 'child_conj': [], 'head_conj': [], 'pos': 'NOUN', 'dep': 'compound', 'head': configuration}\n",
      "{'values': [right, hand, drive, configuration], 'main_token': configuration, 'text': 'right hand drive configuration', 'child_conj': [], 'head_conj': [], 'pos': 'NOUN', 'dep': 'pobj', 'head': with}\n",
      "{'values': [start], 'main_token': start, 'text': 'start', 'child_conj': [], 'head_conj': [], 'pos': 'NOUN', 'dep': 'pobj', 'head': at}\n",
      "{'values': [October], 'main_token': October, 'text': 'October', 'child_conj': [], 'head_conj': [], 'pos': 'PROPN', 'dep': 'pobj', 'head': of}\n",
      "\n",
      "------------------\n",
      "Unique:\n",
      "{'values': [BMW, iX], 'main_token': iX, 'text': 'BMW iX', 'child_conj': [], 'head_conj': [], 'pos': 'PRON', 'dep': 'dobj', 'head': order}\n",
      "{'values': [right, hand, drive, configuration], 'main_token': configuration, 'text': 'right hand drive configuration', 'child_conj': [], 'head_conj': [], 'pos': 'NOUN', 'dep': 'pobj', 'head': with}\n",
      "{'values': [start], 'main_token': start, 'text': 'start', 'child_conj': [], 'head_conj': [], 'pos': 'NOUN', 'dep': 'pobj', 'head': at}\n",
      "{'values': [October], 'main_token': October, 'text': 'October', 'child_conj': [], 'head_conj': [], 'pos': 'PROPN', 'dep': 'pobj', 'head': of}\n",
      "\n",
      "\n",
      "\n",
      "\n",
      "Prompt:  I want to order a BMW iX. I do not want a right-hand drive configuration. I will be ordering it at the start of October 2022. \n",
      "\n",
      "{'values': [BMW], 'main_token': BMW, 'text': 'BMW', 'child_conj': [], 'head_conj': [], 'pos': 'PROPN', 'dep': 'compound', 'head': iX.}\n",
      "{'values': [BMW, iX.], 'main_token': iX., 'text': 'BMW iX.', 'child_conj': [], 'head_conj': [], 'pos': 'PROPN', 'dep': 'dobj', 'head': order}\n",
      "{'values': [right, hand], 'main_token': hand, 'text': 'right hand', 'child_conj': [], 'head_conj': [], 'pos': 'NOUN', 'dep': 'compound', 'head': configuration}\n",
      "{'values': [drive], 'main_token': drive, 'text': 'drive', 'child_conj': [], 'head_conj': [], 'pos': 'NOUN', 'dep': 'compound', 'head': configuration}\n",
      "{'values': [right, hand, drive, configuration], 'main_token': configuration, 'text': 'right hand drive configuration', 'child_conj': [], 'head_conj': [], 'pos': 'NOUN', 'dep': 'dobj', 'head': want}\n",
      "{'values': [start], 'main_token': start, 'text': 'start', 'child_conj': [], 'head_conj': [], 'pos': 'NOUN', 'dep': 'pobj', 'head': at}\n",
      "{'values': [October], 'main_token': October, 'text': 'October', 'child_conj': [], 'head_conj': [], 'pos': 'PROPN', 'dep': 'pobj', 'head': of}\n",
      "\n",
      "------------------\n",
      "Unique:\n",
      "{'values': [BMW, iX.], 'main_token': iX., 'text': 'BMW iX.', 'child_conj': [], 'head_conj': [], 'pos': 'PROPN', 'dep': 'dobj', 'head': order}\n",
      "{'values': [right, hand, drive, configuration], 'main_token': configuration, 'text': 'right hand drive configuration', 'child_conj': [], 'head_conj': [], 'pos': 'NOUN', 'dep': 'dobj', 'head': want}\n",
      "{'values': [start], 'main_token': start, 'text': 'start', 'child_conj': [], 'head_conj': [], 'pos': 'NOUN', 'dep': 'pobj', 'head': at}\n",
      "{'values': [October], 'main_token': October, 'text': 'October', 'child_conj': [], 'head_conj': [], 'pos': 'PROPN', 'dep': 'pobj', 'head': of}\n",
      "\n",
      "\n",
      "\n",
      "\n"
     ]
    }
   ],
   "source": [
    "samples = [\"Hello, is the M8 available without a panorama glass roof and with the EU Comfort Package. I need the vehicle on the 8th of November 2024\",\n",
    "'I am planning to order the BMW M8 with a sunroof or a panorama glass roof sky lounge along with the M Sport Package and right-hand drive on 12th April 2018. Is this configuration possible?',\n",
    "\"I want to order a BMW iX with right-hand drive configuration. I will be ordering it at the start of October 2022.\",\n",
    "\"I want to order a BMW iX. I do not want a right-hand drive configuration. I will be ordering it at the start of October 2022.\"]\n",
    "\n",
    "for text in samples:\n",
    "    print(\"Prompt: \", text, '\\n')\n",
    "    unique_tags, all_tags = get_key_terms_with_pos(text)\n",
    "\n",
    "    for t in all_tags:\n",
    "        print(t)\n",
    "\n",
    "    print('\\n------------------\\nUnique:')\n",
    "\n",
    "    for t in unique_tags:\n",
    "        print(t)\n",
    "\n",
    "    print('\\n\\n\\n')"
   ]
  },
  {
   "attachments": {},
   "cell_type": "markdown",
   "metadata": {},
   "source": [
    "#### Let's try to create the boolean rule\n",
    "\n",
    "Methods that have failed so far:\n",
    "- TextBlob for getting the sentiment\n",
    "- vaderSentiment\n",
    "\n",
    "One possible way here can be either lemmatize the term and make a look up dictionary. "
   ]
  },
  {
   "cell_type": "code",
   "execution_count": 12,
   "metadata": {},
   "outputs": [],
   "source": [
    "from request_body_creation import *\n",
    "import numpy as np"
   ]
  },
  {
   "cell_type": "code",
   "execution_count": 13,
   "metadata": {},
   "outputs": [],
   "source": [
    "def segregated_tags(tags):\n",
    "    # Adding the types to the tags\n",
    "    \n",
    "    segregated = []\n",
    "\n",
    "    for t in tags:\n",
    "        tag_text = t['text']\n",
    "\n",
    "        # Getting the match score with each dictionary\n",
    "        match_score = [ max([lcs_similarity(tag_text,i,type='min') for i in list(MODEL_TYPE_CODE.keys())]),\n",
    "                        max([lcs_similarity(tag_text,i,type='min') for i in list(STEERING_CONFIG_CODE.keys())]),\n",
    "                        max([lcs_similarity(tag_text,i,type='min') for i in list(PACKAGE_CODE.keys())]),\n",
    "                        max([lcs_similarity(tag_text,i,type='min') for i in list(ROOF_CONFIG_CODE.keys())])]\n",
    "        \n",
    "        \n",
    "        if max(match_score) >= 0.5:\n",
    "            segregated.append(np.argmax(match_score))\n",
    "        else:\n",
    "            segregated.append(-1)\n",
    "\n",
    "    return segregated"
   ]
  },
  {
   "cell_type": "code",
   "execution_count": null,
   "metadata": {},
   "outputs": [],
   "source": []
  },
  {
   "cell_type": "code",
   "execution_count": 14,
   "metadata": {},
   "outputs": [],
   "source": [
    "def revert_tense(word, tense):\n",
    "    \n",
    "    blob = TextBlob(word)\n",
    "    return blob.words[0].lemmatize(tense)\n",
    "\n",
    "def get_word_sentiment(word):\n",
    "    # Create a custom sentiment lexicon\n",
    "    custom_lexicon = {'with': 0.5, 'include': 0.5, 'want': 0.5, 'have':0.5, \n",
    "                  'without': -0.5, 'exclude': -0.5}\n",
    "    \n",
    "    word = revert_tense(word, 'v')\n",
    "    if word in custom_lexicon:\n",
    "        return custom_lexicon[word]\n",
    "    else:\n",
    "        blob = TextBlob(word, analyzer=NaiveBayesAnalyzer())\n",
    "        return blob.sentiment.p_pos - blob.sentiment.p_neg"
   ]
  },
  {
   "cell_type": "code",
   "execution_count": 63,
   "metadata": {},
   "outputs": [],
   "source": [
    "def get_boolean_logic_datastruct(tags, segregated):\n",
    "    code_dictionaries = [STEERING_CONFIG_CODE, PACKAGE_CODE, ROOF_CONFIG_CODE]\n",
    "    # Just so that we can look at the sentiment of the previous tag as well (if there is a conjugation)\n",
    "    prev_tag = None\n",
    "    prev_cat = None\n",
    "    logic = []\n",
    "    logic_sentiment = []\n",
    "    for s,t in zip(segregated, tags):\n",
    "        if s in [1,2,3]:\n",
    "            print(t)\n",
    "\n",
    "            ## Getting the sentiment of the head\n",
    "            head_sentiment = get_word_sentiment(t['head'].text)\n",
    "\n",
    "            if abs(head_sentiment) < 0.2:\n",
    "                ## We use the previous one\n",
    "                t['connotation'] = prev_tag['connotation'] if prev_tag else 'pos'\n",
    "            else:\n",
    "                # Checking if there is a negation in the children of head\n",
    "                if 'neg' in [i.dep_ for i in t['head'].children]:\n",
    "                    head_sentiment = -head_sentiment\n",
    "\n",
    "                t['connotation'] = 'pos' if head_sentiment > 0 else 'neg'\n",
    "\n",
    "            # Fetch the code dictionary\n",
    "            code_dict = code_dictionaries[s-1]\n",
    "\n",
    "            # Get the correct code from the dictionary\n",
    "            code = None\n",
    "            try:\n",
    "                # First try to fetch with direct indexing\n",
    "                code = code_dict[t['text']]\n",
    "            except:\n",
    "                # if not found, try to use the LCS similarity (Using max in this case)\n",
    "                similarity_score = [lcs_similarity(t['text'],i,type='max') for i in list(code_dict.keys())]\n",
    "                if max(similarity_score) >= 0.5:\n",
    "                    code = list(code_dict.values())[np.argmax(similarity_score)]\n",
    "\n",
    "            # If the code ends up being None, then the tag was misclassified\n",
    "\n",
    "            ''' The crux of the logic:\n",
    "\n",
    "            - The goal is to divide the boolean string into 2 parts: Sentiment and Code.\n",
    "            - The code(s) will be joined with either / or + based on the conjugation of the previous term.\n",
    "            - The code(s) will carry the - sign if the connotation is negative.\n",
    "            - Since you can't ask for 'and' of multiple components of the same category, we are assuming \n",
    "            that they will be joined with a '/' only. codes that are to be put in parantheses would be kept in \n",
    "            the same list [].\n",
    "            \n",
    "            Example : \"+(A/-B)+-C\" will have the data structures: [[A,-B],[-C]] and signs: [+,+]\n",
    "            \n",
    "            '''\n",
    "            if code is not None:\n",
    "                if prev_tag is not None:\n",
    "                    if prev_cat == s:\n",
    "                        t['code'] = code if t['connotation']=='pos' else '-'+code\n",
    "                        logic[-1].append(t)\n",
    "                    else:\n",
    "                        t['code'] = code if t['connotation']=='pos' else '-'+code\n",
    "                        logic.append([t])\n",
    "                        # The or conjugation between the two categories comes from the head of the fisrt tag of the previous group or the head of the current tag (if singular).\n",
    "                        # Can be seen in the displacy image above\n",
    "                        if (len(logic[-2][0]['head_conj']) > 0 and logic[-2][0]['head_conj'][0].text == 'or') or (len(t['head_conj']) > 0 and t['head_conj'][0].text == 'or'):\n",
    "                            logic_sentiment.append('/')\n",
    "                        else:\n",
    "                            logic_sentiment.append('+')\n",
    "\n",
    "                else:\n",
    "                    t['code'] = code if t['connotation']=='pos' else '-'+code\n",
    "                    logic.append([t])\n",
    "                    logic_sentiment.append('+')\n",
    "\n",
    "                # print([[i['code'] for i in j] for j in logic])\n",
    "                # print(logic_sentiment)\n",
    "\n",
    "            prev_tag = t\n",
    "            prev_cat = s\n",
    "\n",
    "    return logic, logic_sentiment\n"
   ]
  },
  {
   "cell_type": "code",
   "execution_count": 64,
   "metadata": {},
   "outputs": [
    {
     "data": {
      "text/plain": [
       "['Hello, is the M8 available without a panorama glass roof and with the EU Comfort Package. I need the vehicle on the 8th of November 2024',\n",
       " 'I am planning to order the BMW M8 with a sunroof or a panorama glass roof sky lounge along with the M Sport Package and right-hand drive on 12th April 2018. Is this configuration possible?',\n",
       " 'I want to order a BMW iX with right-hand drive configuration. I will be ordering it at the start of October 2022.',\n",
       " 'I want to order a BMW iX. I do not want a right-hand drive configuration. I will be ordering it at the start of October 2022.']"
      ]
     },
     "execution_count": 64,
     "metadata": {},
     "output_type": "execute_result"
    }
   ],
   "source": [
    "samples"
   ]
  },
  {
   "cell_type": "code",
   "execution_count": 71,
   "metadata": {},
   "outputs": [],
   "source": [
    "custom_sample = 'I am planning to order the BMW M8 with a sunroof or a panorama glass roof sky lounge or a panorama glass roof or with the M Sport Package or right-hand drive on 12th April 2018. Is this configuration possible?'\n",
    "tags,_ = get_key_terms_with_pos(custom_sample)\n",
    "segregated = segregated_tags(tags)"
   ]
  },
  {
   "cell_type": "code",
   "execution_count": 72,
   "metadata": {},
   "outputs": [
    {
     "name": "stdout",
     "output_type": "stream",
     "text": [
      "{'values': [sunroof], 'main_token': sunroof, 'text': 'sunroof', 'child_conj': [or], 'head_conj': [or], 'pos': 'NOUN', 'dep': 'pobj', 'head': with}\n",
      "{'values': [panorama, glass, roof, sky, lounge], 'main_token': lounge, 'text': 'panorama glass roof sky lounge', 'child_conj': [or], 'head_conj': [or], 'pos': 'NOUN', 'dep': 'conj', 'head': sunroof}\n",
      "{'values': [panorama, glass, roof], 'main_token': roof, 'text': 'panorama glass roof', 'child_conj': [], 'head_conj': [or], 'pos': 'NOUN', 'dep': 'conj', 'head': lounge}\n",
      "{'values': [M, Sport, Package], 'main_token': Package, 'text': 'M Sport Package', 'child_conj': [or], 'head_conj': [], 'pos': 'PROPN', 'dep': 'pobj', 'head': with}\n",
      "{'values': [right, hand, drive], 'main_token': drive, 'text': 'right hand drive', 'child_conj': [], 'head_conj': [or], 'pos': 'NOUN', 'dep': 'conj', 'head': Package}\n",
      "{'values': [possible, configuration], 'main_token': configuration, 'text': 'possible configuration', 'child_conj': [], 'head_conj': [], 'pos': 'NOUN', 'dep': 'nsubj', 'head': Is}\n"
     ]
    }
   ],
   "source": [
    "logic, logic_sentiment = get_boolean_logic_datastruct(tags, segregated)"
   ]
  },
  {
   "cell_type": "code",
   "execution_count": 73,
   "metadata": {},
   "outputs": [
    {
     "name": "stdout",
     "output_type": "stream",
     "text": [
      "[['S403A', 'S407A', 'S402A'], ['P337A'], ['RL']]\n",
      "['+', '/', '/']\n"
     ]
    }
   ],
   "source": [
    "print([[i['code'] for i in j] for j in logic])\n",
    "print(logic_sentiment)"
   ]
  },
  {
   "cell_type": "code",
   "execution_count": 37,
   "metadata": {},
   "outputs": [
    {
     "name": "stdout",
     "output_type": "stream",
     "text": [
      "{'values': [BMW, iX.], 'main_token': iX., 'text': 'BMW iX.', 'child_conj': [], 'pos': 'PROPN', 'dep': 'dobj', 'head': order}\n",
      "{'values': [right, hand, drive, configuration], 'main_token': configuration, 'text': 'right hand drive configuration', 'child_conj': [], 'pos': 'NOUN', 'dep': 'dobj', 'head': want, 'connotation': 'neg'}\n",
      "{'values': [start], 'main_token': start, 'text': 'start', 'child_conj': [], 'pos': 'NOUN', 'dep': 'pobj', 'head': at, 'connotation': 'neg'}\n",
      "{'values': [October], 'main_token': October, 'text': 'October', 'child_conj': [], 'pos': 'PROPN', 'dep': 'pobj', 'head': of, 'connotation': 'neg'}\n"
     ]
    }
   ],
   "source": [
    "for t in tags:\n",
    "    print(t)"
   ]
  },
  {
   "cell_type": "code",
   "execution_count": null,
   "metadata": {},
   "outputs": [],
   "source": []
  },
  {
   "cell_type": "code",
   "execution_count": null,
   "metadata": {},
   "outputs": [],
   "source": []
  },
  {
   "attachments": {},
   "cell_type": "markdown",
   "metadata": {},
   "source": [
    "#### Getting the Date"
   ]
  },
  {
   "cell_type": "code",
   "execution_count": 148,
   "metadata": {},
   "outputs": [
    {
     "name": "stdout",
     "output_type": "stream",
     "text": [
      "I want to order a BMW iX. I do not want a right-hand drive configuration. I will be ordering it at the start of October 2022.\n",
      "2022-10-13 00:00:00\n"
     ]
    }
   ],
   "source": [
    "import datefinder\n",
    "text = samples[3]\n",
    "print(text)\n",
    "matches = datefinder.find_dates(text)\n",
    "for match in matches:\n",
    "    print(match)"
   ]
  },
  {
   "cell_type": "code",
   "execution_count": 128,
   "metadata": {},
   "outputs": [
    {
     "data": {
      "text/plain": [
       "'I am planning to order the BMW M8 with a sunroof or a panorama glass roof sky lounge along with the M Sport Package and right-hand drive on 12th April 2018. Is this configuration possible?'"
      ]
     },
     "execution_count": 128,
     "metadata": {},
     "output_type": "execute_result"
    }
   ],
   "source": [
    "samples[1]"
   ]
  },
  {
   "cell_type": "code",
   "execution_count": 135,
   "metadata": {},
   "outputs": [],
   "source": [
    "from sutime import SUTime\n",
    "import json\n",
    "from dateparser.search import search_dates"
   ]
  },
  {
   "cell_type": "code",
   "execution_count": 137,
   "metadata": {},
   "outputs": [
    {
     "data": {
      "text/plain": [
       "[('of October 2022', datetime.datetime(2022, 10, 13, 0, 0))]"
      ]
     },
     "execution_count": 137,
     "metadata": {},
     "output_type": "execute_result"
    }
   ],
   "source": [
    "search_dates(samples[3])"
   ]
  },
  {
   "cell_type": "code",
   "execution_count": 147,
   "metadata": {},
   "outputs": [
    {
     "name": "stderr",
     "output_type": "stream",
     "text": [
      "'mvn' is not recognized as an internal or external command,\n",
      "operable program or batch file.\n"
     ]
    }
   ],
   "source": [
    "!mvn dependency:copy-dependencies -DoutputDirectory=./jars -f $(python3 -c 'import importlib; import pathlib; print(pathlib.Path(importlib.util.find_spec(\"sutime\").origin).parent / \"pom.xml\")')"
   ]
  },
  {
   "cell_type": "code",
   "execution_count": 145,
   "metadata": {},
   "outputs": [
    {
     "name": "stdout",
     "output_type": "stream",
     "text": [
      "2022-10-13 00:00:00\n"
     ]
    }
   ],
   "source": [
    "from dateutil.parser import parse\n",
    "\n",
    "text = samples[3]\n",
    "date = parse(text, fuzzy=True)\n",
    "print(date)"
   ]
  },
  {
   "cell_type": "code",
   "execution_count": null,
   "metadata": {},
   "outputs": [],
   "source": []
  }
 ],
 "metadata": {
  "kernelspec": {
   "display_name": "datafest",
   "language": "python",
   "name": "python3"
  },
  "language_info": {
   "codemirror_mode": {
    "name": "ipython",
    "version": 3
   },
   "file_extension": ".py",
   "mimetype": "text/x-python",
   "name": "python",
   "nbconvert_exporter": "python",
   "pygments_lexer": "ipython3",
   "version": "3.9.16"
  },
  "orig_nbformat": 4
 },
 "nbformat": 4,
 "nbformat_minor": 2
}
