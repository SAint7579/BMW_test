{
 "cells": [
  {
   "cell_type": "code",
   "execution_count": 14,
   "metadata": {},
   "outputs": [],
   "source": [
    "import sys\n",
    "sys.path.insert(1, 'Utilities')"
   ]
  },
  {
   "attachments": {},
   "cell_type": "markdown",
   "metadata": {},
   "source": [
    "# 1.) Model Type Detection"
   ]
  },
  {
   "attachments": {},
   "cell_type": "markdown",
   "metadata": {},
   "source": [
    "## Strategy for matching the keywords to Sales Description:\n",
    "\n",
    "#### From what I understand:\n",
    "- Every request body has just one model code. If a request contains several (or maybe an ambigious one), we'll need to create multiple request bodies.\n",
    "- There is also a lot of overlap in their names, which might cause a problem if people misspell them.\n",
    "\n",
    "### Potential approach:\n",
    "- We'll need to find some way to extract the keywords from the request text and find a similarity score with the Sales description.\n",
    "- We can calculate the score with cosine similarity, and then softmax the results. \n",
    "\n",
    "#### How to get the score:\n",
    "\n",
    "##### Method 1:\n",
    "- Maybe encode the table with BERT (SBERT would work here) and compare the BERT encodings of the keywords with the BERT encodings of the sales description to find which one matches the best.\n",
    "- Why BERT?:  This takes care of any spelling and typographical errors AND if there is some ambiguity, we'll get very similary softmax scores for different sales descriptions.\n"
   ]
  },
  {
   "cell_type": "code",
   "execution_count": 5,
   "metadata": {},
   "outputs": [],
   "source": [
    "from utilities import *"
   ]
  },
  {
   "cell_type": "code",
   "execution_count": 6,
   "metadata": {},
   "outputs": [],
   "source": [
    "target_embeddings = [get_sbert_embeddings('iX xDrive50'), get_sbert_embeddings('iX xDrive40'), get_sbert_embeddings('X7 xDrive40i'), get_sbert_embeddings('X7 xDrive40d'), get_sbert_embeddings('M8'), get_sbert_embeddings('318i')]\n",
    "test_emb = get_sbert_embeddings('iX xDrive50')"
   ]
  },
  {
   "cell_type": "code",
   "execution_count": 7,
   "metadata": {},
   "outputs": [
    {
     "data": {
      "text/plain": [
       "array([0.16695336, 0.16686176, 0.16672765, 0.16676882, 0.16661336,\n",
       "       0.16607507], dtype=float32)"
      ]
     },
     "execution_count": 7,
     "metadata": {},
     "output_type": "execute_result"
    }
   ],
   "source": [
    "softmax(np.array([get_cosine_similarity(i, test_emb) for i in target_embeddings]))"
   ]
  },
  {
   "attachments": {},
   "cell_type": "markdown",
   "metadata": {},
   "source": [
    "##### Problems:\n",
    "- BERT (or FastText, Word2Vec, etc.) is really heavy and an overkill for this problem. \n",
    "- On top of that, the similarity scores are not different for big changes in the model type code, let alone for the minor ones (typing errors, partial names etc.). Even pooling strategies don't work well here."
   ]
  },
  {
   "attachments": {},
   "cell_type": "markdown",
   "metadata": {},
   "source": [
    "##### Method 2:\n",
    "- We can calculate the score with the longest common subsequence as a percentage of the length of the sales description extracted from the text. \n",
    "- This is a lot more interpretable and since a typgraphical error will change the score for every match, the softmax output will remain consistent.\n",
    "- Rest all is same as the BERT strategy."
   ]
  },
  {
   "cell_type": "code",
   "execution_count": 8,
   "metadata": {},
   "outputs": [],
   "source": [
    "target_string = ['iX xDrive50', 'iX xDrive40','X7 xDrive40i', 'X7 xDrive40d','M8','318i']"
   ]
  },
  {
   "cell_type": "code",
   "execution_count": 9,
   "metadata": {},
   "outputs": [
    {
     "data": {
      "text/plain": [
       "array([0.18498475, 0.20258965, 0.22186999, 0.20413024, 0.08162141,\n",
       "       0.10480396])"
      ]
     },
     "execution_count": 9,
     "metadata": {},
     "output_type": "execute_result"
    }
   ],
   "source": [
    "test_string = 'X7 xDrive40i'\n",
    "softmax(np.array([lcs_similarity(i, test_string) for i in target_string]))"
   ]
  },
  {
   "cell_type": "code",
   "execution_count": 10,
   "metadata": {},
   "outputs": [
    {
     "data": {
      "text/plain": [
       "array([0.19776486, 0.221006  , 0.19776486, 0.19776486, 0.08130357,\n",
       "       0.10439584])"
      ]
     },
     "execution_count": 10,
     "metadata": {},
     "output_type": "execute_result"
    }
   ],
   "source": [
    "# With spelling error\n",
    "test_string = 'ix Drve40'\n",
    "softmax(np.array([lcs_similarity(i, test_string) for i in target_string]))"
   ]
  },
  {
   "cell_type": "code",
   "execution_count": 11,
   "metadata": {},
   "outputs": [
    {
     "data": {
      "text/plain": [
       "array([0.18416297, 0.21244395, 0.21244395, 0.21244395, 0.07815376,\n",
       "       0.10035142])"
      ]
     },
     "execution_count": 11,
     "metadata": {},
     "output_type": "execute_result"
    }
   ],
   "source": [
    "# With ambiguity\n",
    "test_string = 'Drive40'\n",
    "softmax(np.array([lcs_similarity(i, test_string) for i in target_string]))"
   ]
  },
  {
   "attachments": {},
   "cell_type": "markdown",
   "metadata": {},
   "source": [
    "##### Potential Selection method: \n",
    "- If two score are equal till the 2nd decimal place, we can declare that the request is ambigious enough for us to create multiple request bodies."
   ]
  },
  {
   "attachments": {},
   "cell_type": "markdown",
   "metadata": {},
   "source": [
    "## 2.) Keyword detection\n",
    "- Essentially, I need to find all the key terms in the text body and find which ones of them match with the sales description of model type codes.\n",
    "\n",
    "#### Here is an idea: \n",
    "- The bolean formula taks is going to be a POS-Tagging job. If I am going to extract nouns there anyway, why not use the same information to find the potnetial model type codes as well?\n",
    "\n",
    "## 2 (redefined) Keyword detection with some POS and conjugation context:\n",
    "- Spacy's 'en_core_web_sm' might be good enough here."
   ]
  },
  {
   "cell_type": "code",
   "execution_count": 15,
   "metadata": {},
   "outputs": [],
   "source": [
    "import datetime"
   ]
  },
  {
   "cell_type": "code",
   "execution_count": 27,
   "metadata": {},
   "outputs": [
    {
     "data": {
      "text/html": [
       "<span class=\"tex2jax_ignore\"><svg xmlns=\"http://www.w3.org/2000/svg\" xmlns:xlink=\"http://www.w3.org/1999/xlink\" xml:lang=\"en\" id=\"65d671a0029c4326ad75f8e6b43aa4ac-0\" class=\"displacy\" width=\"4075\" height=\"487.0\" direction=\"ltr\" style=\"max-width: none; height: 487.0px; color: #000000; background: #ffffff; font-family: Arial; direction: ltr\">\n",
       "<text class=\"displacy-token\" fill=\"currentColor\" text-anchor=\"middle\" y=\"397.0\">\n",
       "    <tspan class=\"displacy-word\" fill=\"currentColor\" x=\"50\">I</tspan>\n",
       "    <tspan class=\"displacy-tag\" dy=\"2em\" fill=\"currentColor\" x=\"50\">PRON</tspan>\n",
       "</text>\n",
       "\n",
       "<text class=\"displacy-token\" fill=\"currentColor\" text-anchor=\"middle\" y=\"397.0\">\n",
       "    <tspan class=\"displacy-word\" fill=\"currentColor\" x=\"225\">Need</tspan>\n",
       "    <tspan class=\"displacy-tag\" dy=\"2em\" fill=\"currentColor\" x=\"225\">VERB</tspan>\n",
       "</text>\n",
       "\n",
       "<text class=\"displacy-token\" fill=\"currentColor\" text-anchor=\"middle\" y=\"397.0\">\n",
       "    <tspan class=\"displacy-word\" fill=\"currentColor\" x=\"400\">A</tspan>\n",
       "    <tspan class=\"displacy-tag\" dy=\"2em\" fill=\"currentColor\" x=\"400\">DET</tspan>\n",
       "</text>\n",
       "\n",
       "<text class=\"displacy-token\" fill=\"currentColor\" text-anchor=\"middle\" y=\"397.0\">\n",
       "    <tspan class=\"displacy-word\" fill=\"currentColor\" x=\"575\">Bmw</tspan>\n",
       "    <tspan class=\"displacy-tag\" dy=\"2em\" fill=\"currentColor\" x=\"575\">PROPN</tspan>\n",
       "</text>\n",
       "\n",
       "<text class=\"displacy-token\" fill=\"currentColor\" text-anchor=\"middle\" y=\"397.0\">\n",
       "    <tspan class=\"displacy-word\" fill=\"currentColor\" x=\"750\">318I</tspan>\n",
       "    <tspan class=\"displacy-tag\" dy=\"2em\" fill=\"currentColor\" x=\"750\">NOUN</tspan>\n",
       "</text>\n",
       "\n",
       "<text class=\"displacy-token\" fill=\"currentColor\" text-anchor=\"middle\" y=\"397.0\">\n",
       "    <tspan class=\"displacy-word\" fill=\"currentColor\" x=\"925\">With</tspan>\n",
       "    <tspan class=\"displacy-tag\" dy=\"2em\" fill=\"currentColor\" x=\"925\">ADP</tspan>\n",
       "</text>\n",
       "\n",
       "<text class=\"displacy-token\" fill=\"currentColor\" text-anchor=\"middle\" y=\"397.0\">\n",
       "    <tspan class=\"displacy-word\" fill=\"currentColor\" x=\"1100\">Sunroof</tspan>\n",
       "    <tspan class=\"displacy-tag\" dy=\"2em\" fill=\"currentColor\" x=\"1100\">PROPN</tspan>\n",
       "</text>\n",
       "\n",
       "<text class=\"displacy-token\" fill=\"currentColor\" text-anchor=\"middle\" y=\"397.0\">\n",
       "    <tspan class=\"displacy-word\" fill=\"currentColor\" x=\"1275\">Or</tspan>\n",
       "    <tspan class=\"displacy-tag\" dy=\"2em\" fill=\"currentColor\" x=\"1275\">CCONJ</tspan>\n",
       "</text>\n",
       "\n",
       "<text class=\"displacy-token\" fill=\"currentColor\" text-anchor=\"middle\" y=\"397.0\">\n",
       "    <tspan class=\"displacy-word\" fill=\"currentColor\" x=\"1450\">The</tspan>\n",
       "    <tspan class=\"displacy-tag\" dy=\"2em\" fill=\"currentColor\" x=\"1450\">DET</tspan>\n",
       "</text>\n",
       "\n",
       "<text class=\"displacy-token\" fill=\"currentColor\" text-anchor=\"middle\" y=\"397.0\">\n",
       "    <tspan class=\"displacy-word\" fill=\"currentColor\" x=\"1625\">Left-</tspan>\n",
       "    <tspan class=\"displacy-tag\" dy=\"2em\" fill=\"currentColor\" x=\"1625\">PROPN</tspan>\n",
       "</text>\n",
       "\n",
       "<text class=\"displacy-token\" fill=\"currentColor\" text-anchor=\"middle\" y=\"397.0\">\n",
       "    <tspan class=\"displacy-word\" fill=\"currentColor\" x=\"1800\">Hand</tspan>\n",
       "    <tspan class=\"displacy-tag\" dy=\"2em\" fill=\"currentColor\" x=\"1800\">NOUN</tspan>\n",
       "</text>\n",
       "\n",
       "<text class=\"displacy-token\" fill=\"currentColor\" text-anchor=\"middle\" y=\"397.0\">\n",
       "    <tspan class=\"displacy-word\" fill=\"currentColor\" x=\"1975\">Drive</tspan>\n",
       "    <tspan class=\"displacy-tag\" dy=\"2em\" fill=\"currentColor\" x=\"1975\">PROPN</tspan>\n",
       "</text>\n",
       "\n",
       "<text class=\"displacy-token\" fill=\"currentColor\" text-anchor=\"middle\" y=\"397.0\">\n",
       "    <tspan class=\"displacy-word\" fill=\"currentColor\" x=\"2150\">And</tspan>\n",
       "    <tspan class=\"displacy-tag\" dy=\"2em\" fill=\"currentColor\" x=\"2150\">CCONJ</tspan>\n",
       "</text>\n",
       "\n",
       "<text class=\"displacy-token\" fill=\"currentColor\" text-anchor=\"middle\" y=\"397.0\">\n",
       "    <tspan class=\"displacy-word\" fill=\"currentColor\" x=\"2325\">M</tspan>\n",
       "    <tspan class=\"displacy-tag\" dy=\"2em\" fill=\"currentColor\" x=\"2325\">PROPN</tspan>\n",
       "</text>\n",
       "\n",
       "<text class=\"displacy-token\" fill=\"currentColor\" text-anchor=\"middle\" y=\"397.0\">\n",
       "    <tspan class=\"displacy-word\" fill=\"currentColor\" x=\"2500\">Sport</tspan>\n",
       "    <tspan class=\"displacy-tag\" dy=\"2em\" fill=\"currentColor\" x=\"2500\">PROPN</tspan>\n",
       "</text>\n",
       "\n",
       "<text class=\"displacy-token\" fill=\"currentColor\" text-anchor=\"middle\" y=\"397.0\">\n",
       "    <tspan class=\"displacy-word\" fill=\"currentColor\" x=\"2675\">Package</tspan>\n",
       "    <tspan class=\"displacy-tag\" dy=\"2em\" fill=\"currentColor\" x=\"2675\">PROPN</tspan>\n",
       "</text>\n",
       "\n",
       "<text class=\"displacy-token\" fill=\"currentColor\" text-anchor=\"middle\" y=\"397.0\">\n",
       "    <tspan class=\"displacy-word\" fill=\"currentColor\" x=\"2850\">Pro</tspan>\n",
       "    <tspan class=\"displacy-tag\" dy=\"2em\" fill=\"currentColor\" x=\"2850\">PROPN</tspan>\n",
       "</text>\n",
       "\n",
       "<text class=\"displacy-token\" fill=\"currentColor\" text-anchor=\"middle\" y=\"397.0\">\n",
       "    <tspan class=\"displacy-word\" fill=\"currentColor\" x=\"3025\">Or</tspan>\n",
       "    <tspan class=\"displacy-tag\" dy=\"2em\" fill=\"currentColor\" x=\"3025\">CCONJ</tspan>\n",
       "</text>\n",
       "\n",
       "<text class=\"displacy-token\" fill=\"currentColor\" text-anchor=\"middle\" y=\"397.0\">\n",
       "    <tspan class=\"displacy-word\" fill=\"currentColor\" x=\"3200\">The</tspan>\n",
       "    <tspan class=\"displacy-tag\" dy=\"2em\" fill=\"currentColor\" x=\"3200\">DET</tspan>\n",
       "</text>\n",
       "\n",
       "<text class=\"displacy-token\" fill=\"currentColor\" text-anchor=\"middle\" y=\"397.0\">\n",
       "    <tspan class=\"displacy-word\" fill=\"currentColor\" x=\"3375\">M</tspan>\n",
       "    <tspan class=\"displacy-tag\" dy=\"2em\" fill=\"currentColor\" x=\"3375\">PROPN</tspan>\n",
       "</text>\n",
       "\n",
       "<text class=\"displacy-token\" fill=\"currentColor\" text-anchor=\"middle\" y=\"397.0\">\n",
       "    <tspan class=\"displacy-word\" fill=\"currentColor\" x=\"3550\">Sport</tspan>\n",
       "    <tspan class=\"displacy-tag\" dy=\"2em\" fill=\"currentColor\" x=\"3550\">PROPN</tspan>\n",
       "</text>\n",
       "\n",
       "<text class=\"displacy-token\" fill=\"currentColor\" text-anchor=\"middle\" y=\"397.0\">\n",
       "    <tspan class=\"displacy-word\" fill=\"currentColor\" x=\"3725\">Package.</tspan>\n",
       "    <tspan class=\"displacy-tag\" dy=\"2em\" fill=\"currentColor\" x=\"3725\">PROPN</tspan>\n",
       "</text>\n",
       "\n",
       "<text class=\"displacy-token\" fill=\"currentColor\" text-anchor=\"middle\" y=\"397.0\">\n",
       "    <tspan class=\"displacy-word\" fill=\"currentColor\" x=\"3900\">69.</tspan>\n",
       "    <tspan class=\"displacy-tag\" dy=\"2em\" fill=\"currentColor\" x=\"3900\">NUM</tspan>\n",
       "</text>\n",
       "\n",
       "<g class=\"displacy-arrow\">\n",
       "    <path class=\"displacy-arc\" id=\"arrow-65d671a0029c4326ad75f8e6b43aa4ac-0-0\" stroke-width=\"2px\" d=\"M70,352.0 C70,264.5 210.0,264.5 210.0,352.0\" fill=\"none\" stroke=\"currentColor\"/>\n",
       "    <text dy=\"1.25em\" style=\"font-size: 0.8em; letter-spacing: 1px\">\n",
       "        <textPath xlink:href=\"#arrow-65d671a0029c4326ad75f8e6b43aa4ac-0-0\" class=\"displacy-label\" startOffset=\"50%\" side=\"left\" fill=\"currentColor\" text-anchor=\"middle\">nsubj</textPath>\n",
       "    </text>\n",
       "    <path class=\"displacy-arrowhead\" d=\"M70,354.0 L62,342.0 78,342.0\" fill=\"currentColor\"/>\n",
       "</g>\n",
       "\n",
       "<g class=\"displacy-arrow\">\n",
       "    <path class=\"displacy-arc\" id=\"arrow-65d671a0029c4326ad75f8e6b43aa4ac-0-1\" stroke-width=\"2px\" d=\"M420,352.0 C420,177.0 740.0,177.0 740.0,352.0\" fill=\"none\" stroke=\"currentColor\"/>\n",
       "    <text dy=\"1.25em\" style=\"font-size: 0.8em; letter-spacing: 1px\">\n",
       "        <textPath xlink:href=\"#arrow-65d671a0029c4326ad75f8e6b43aa4ac-0-1\" class=\"displacy-label\" startOffset=\"50%\" side=\"left\" fill=\"currentColor\" text-anchor=\"middle\">det</textPath>\n",
       "    </text>\n",
       "    <path class=\"displacy-arrowhead\" d=\"M420,354.0 L412,342.0 428,342.0\" fill=\"currentColor\"/>\n",
       "</g>\n",
       "\n",
       "<g class=\"displacy-arrow\">\n",
       "    <path class=\"displacy-arc\" id=\"arrow-65d671a0029c4326ad75f8e6b43aa4ac-0-2\" stroke-width=\"2px\" d=\"M595,352.0 C595,264.5 735.0,264.5 735.0,352.0\" fill=\"none\" stroke=\"currentColor\"/>\n",
       "    <text dy=\"1.25em\" style=\"font-size: 0.8em; letter-spacing: 1px\">\n",
       "        <textPath xlink:href=\"#arrow-65d671a0029c4326ad75f8e6b43aa4ac-0-2\" class=\"displacy-label\" startOffset=\"50%\" side=\"left\" fill=\"currentColor\" text-anchor=\"middle\">compound</textPath>\n",
       "    </text>\n",
       "    <path class=\"displacy-arrowhead\" d=\"M595,354.0 L587,342.0 603,342.0\" fill=\"currentColor\"/>\n",
       "</g>\n",
       "\n",
       "<g class=\"displacy-arrow\">\n",
       "    <path class=\"displacy-arc\" id=\"arrow-65d671a0029c4326ad75f8e6b43aa4ac-0-3\" stroke-width=\"2px\" d=\"M245,352.0 C245,89.5 745.0,89.5 745.0,352.0\" fill=\"none\" stroke=\"currentColor\"/>\n",
       "    <text dy=\"1.25em\" style=\"font-size: 0.8em; letter-spacing: 1px\">\n",
       "        <textPath xlink:href=\"#arrow-65d671a0029c4326ad75f8e6b43aa4ac-0-3\" class=\"displacy-label\" startOffset=\"50%\" side=\"left\" fill=\"currentColor\" text-anchor=\"middle\">dobj</textPath>\n",
       "    </text>\n",
       "    <path class=\"displacy-arrowhead\" d=\"M745.0,354.0 L753.0,342.0 737.0,342.0\" fill=\"currentColor\"/>\n",
       "</g>\n",
       "\n",
       "<g class=\"displacy-arrow\">\n",
       "    <path class=\"displacy-arc\" id=\"arrow-65d671a0029c4326ad75f8e6b43aa4ac-0-4\" stroke-width=\"2px\" d=\"M770,352.0 C770,264.5 910.0,264.5 910.0,352.0\" fill=\"none\" stroke=\"currentColor\"/>\n",
       "    <text dy=\"1.25em\" style=\"font-size: 0.8em; letter-spacing: 1px\">\n",
       "        <textPath xlink:href=\"#arrow-65d671a0029c4326ad75f8e6b43aa4ac-0-4\" class=\"displacy-label\" startOffset=\"50%\" side=\"left\" fill=\"currentColor\" text-anchor=\"middle\">prep</textPath>\n",
       "    </text>\n",
       "    <path class=\"displacy-arrowhead\" d=\"M910.0,354.0 L918.0,342.0 902.0,342.0\" fill=\"currentColor\"/>\n",
       "</g>\n",
       "\n",
       "<g class=\"displacy-arrow\">\n",
       "    <path class=\"displacy-arc\" id=\"arrow-65d671a0029c4326ad75f8e6b43aa4ac-0-5\" stroke-width=\"2px\" d=\"M945,352.0 C945,264.5 1085.0,264.5 1085.0,352.0\" fill=\"none\" stroke=\"currentColor\"/>\n",
       "    <text dy=\"1.25em\" style=\"font-size: 0.8em; letter-spacing: 1px\">\n",
       "        <textPath xlink:href=\"#arrow-65d671a0029c4326ad75f8e6b43aa4ac-0-5\" class=\"displacy-label\" startOffset=\"50%\" side=\"left\" fill=\"currentColor\" text-anchor=\"middle\">pobj</textPath>\n",
       "    </text>\n",
       "    <path class=\"displacy-arrowhead\" d=\"M1085.0,354.0 L1093.0,342.0 1077.0,342.0\" fill=\"currentColor\"/>\n",
       "</g>\n",
       "\n",
       "<g class=\"displacy-arrow\">\n",
       "    <path class=\"displacy-arc\" id=\"arrow-65d671a0029c4326ad75f8e6b43aa4ac-0-6\" stroke-width=\"2px\" d=\"M770,352.0 C770,177.0 1265.0,177.0 1265.0,352.0\" fill=\"none\" stroke=\"currentColor\"/>\n",
       "    <text dy=\"1.25em\" style=\"font-size: 0.8em; letter-spacing: 1px\">\n",
       "        <textPath xlink:href=\"#arrow-65d671a0029c4326ad75f8e6b43aa4ac-0-6\" class=\"displacy-label\" startOffset=\"50%\" side=\"left\" fill=\"currentColor\" text-anchor=\"middle\">cc</textPath>\n",
       "    </text>\n",
       "    <path class=\"displacy-arrowhead\" d=\"M1265.0,354.0 L1273.0,342.0 1257.0,342.0\" fill=\"currentColor\"/>\n",
       "</g>\n",
       "\n",
       "<g class=\"displacy-arrow\">\n",
       "    <path class=\"displacy-arc\" id=\"arrow-65d671a0029c4326ad75f8e6b43aa4ac-0-7\" stroke-width=\"2px\" d=\"M1470,352.0 C1470,177.0 1965.0,177.0 1965.0,352.0\" fill=\"none\" stroke=\"currentColor\"/>\n",
       "    <text dy=\"1.25em\" style=\"font-size: 0.8em; letter-spacing: 1px\">\n",
       "        <textPath xlink:href=\"#arrow-65d671a0029c4326ad75f8e6b43aa4ac-0-7\" class=\"displacy-label\" startOffset=\"50%\" side=\"left\" fill=\"currentColor\" text-anchor=\"middle\">det</textPath>\n",
       "    </text>\n",
       "    <path class=\"displacy-arrowhead\" d=\"M1470,354.0 L1462,342.0 1478,342.0\" fill=\"currentColor\"/>\n",
       "</g>\n",
       "\n",
       "<g class=\"displacy-arrow\">\n",
       "    <path class=\"displacy-arc\" id=\"arrow-65d671a0029c4326ad75f8e6b43aa4ac-0-8\" stroke-width=\"2px\" d=\"M1645,352.0 C1645,264.5 1785.0,264.5 1785.0,352.0\" fill=\"none\" stroke=\"currentColor\"/>\n",
       "    <text dy=\"1.25em\" style=\"font-size: 0.8em; letter-spacing: 1px\">\n",
       "        <textPath xlink:href=\"#arrow-65d671a0029c4326ad75f8e6b43aa4ac-0-8\" class=\"displacy-label\" startOffset=\"50%\" side=\"left\" fill=\"currentColor\" text-anchor=\"middle\">compound</textPath>\n",
       "    </text>\n",
       "    <path class=\"displacy-arrowhead\" d=\"M1645,354.0 L1637,342.0 1653,342.0\" fill=\"currentColor\"/>\n",
       "</g>\n",
       "\n",
       "<g class=\"displacy-arrow\">\n",
       "    <path class=\"displacy-arc\" id=\"arrow-65d671a0029c4326ad75f8e6b43aa4ac-0-9\" stroke-width=\"2px\" d=\"M1820,352.0 C1820,264.5 1960.0,264.5 1960.0,352.0\" fill=\"none\" stroke=\"currentColor\"/>\n",
       "    <text dy=\"1.25em\" style=\"font-size: 0.8em; letter-spacing: 1px\">\n",
       "        <textPath xlink:href=\"#arrow-65d671a0029c4326ad75f8e6b43aa4ac-0-9\" class=\"displacy-label\" startOffset=\"50%\" side=\"left\" fill=\"currentColor\" text-anchor=\"middle\">compound</textPath>\n",
       "    </text>\n",
       "    <path class=\"displacy-arrowhead\" d=\"M1820,354.0 L1812,342.0 1828,342.0\" fill=\"currentColor\"/>\n",
       "</g>\n",
       "\n",
       "<g class=\"displacy-arrow\">\n",
       "    <path class=\"displacy-arc\" id=\"arrow-65d671a0029c4326ad75f8e6b43aa4ac-0-10\" stroke-width=\"2px\" d=\"M770,352.0 C770,89.5 1970.0,89.5 1970.0,352.0\" fill=\"none\" stroke=\"currentColor\"/>\n",
       "    <text dy=\"1.25em\" style=\"font-size: 0.8em; letter-spacing: 1px\">\n",
       "        <textPath xlink:href=\"#arrow-65d671a0029c4326ad75f8e6b43aa4ac-0-10\" class=\"displacy-label\" startOffset=\"50%\" side=\"left\" fill=\"currentColor\" text-anchor=\"middle\">conj</textPath>\n",
       "    </text>\n",
       "    <path class=\"displacy-arrowhead\" d=\"M1970.0,354.0 L1978.0,342.0 1962.0,342.0\" fill=\"currentColor\"/>\n",
       "</g>\n",
       "\n",
       "<g class=\"displacy-arrow\">\n",
       "    <path class=\"displacy-arc\" id=\"arrow-65d671a0029c4326ad75f8e6b43aa4ac-0-11\" stroke-width=\"2px\" d=\"M1995,352.0 C1995,264.5 2135.0,264.5 2135.0,352.0\" fill=\"none\" stroke=\"currentColor\"/>\n",
       "    <text dy=\"1.25em\" style=\"font-size: 0.8em; letter-spacing: 1px\">\n",
       "        <textPath xlink:href=\"#arrow-65d671a0029c4326ad75f8e6b43aa4ac-0-11\" class=\"displacy-label\" startOffset=\"50%\" side=\"left\" fill=\"currentColor\" text-anchor=\"middle\">cc</textPath>\n",
       "    </text>\n",
       "    <path class=\"displacy-arrowhead\" d=\"M2135.0,354.0 L2143.0,342.0 2127.0,342.0\" fill=\"currentColor\"/>\n",
       "</g>\n",
       "\n",
       "<g class=\"displacy-arrow\">\n",
       "    <path class=\"displacy-arc\" id=\"arrow-65d671a0029c4326ad75f8e6b43aa4ac-0-12\" stroke-width=\"2px\" d=\"M2345,352.0 C2345,177.0 2665.0,177.0 2665.0,352.0\" fill=\"none\" stroke=\"currentColor\"/>\n",
       "    <text dy=\"1.25em\" style=\"font-size: 0.8em; letter-spacing: 1px\">\n",
       "        <textPath xlink:href=\"#arrow-65d671a0029c4326ad75f8e6b43aa4ac-0-12\" class=\"displacy-label\" startOffset=\"50%\" side=\"left\" fill=\"currentColor\" text-anchor=\"middle\">compound</textPath>\n",
       "    </text>\n",
       "    <path class=\"displacy-arrowhead\" d=\"M2345,354.0 L2337,342.0 2353,342.0\" fill=\"currentColor\"/>\n",
       "</g>\n",
       "\n",
       "<g class=\"displacy-arrow\">\n",
       "    <path class=\"displacy-arc\" id=\"arrow-65d671a0029c4326ad75f8e6b43aa4ac-0-13\" stroke-width=\"2px\" d=\"M2520,352.0 C2520,264.5 2660.0,264.5 2660.0,352.0\" fill=\"none\" stroke=\"currentColor\"/>\n",
       "    <text dy=\"1.25em\" style=\"font-size: 0.8em; letter-spacing: 1px\">\n",
       "        <textPath xlink:href=\"#arrow-65d671a0029c4326ad75f8e6b43aa4ac-0-13\" class=\"displacy-label\" startOffset=\"50%\" side=\"left\" fill=\"currentColor\" text-anchor=\"middle\">compound</textPath>\n",
       "    </text>\n",
       "    <path class=\"displacy-arrowhead\" d=\"M2520,354.0 L2512,342.0 2528,342.0\" fill=\"currentColor\"/>\n",
       "</g>\n",
       "\n",
       "<g class=\"displacy-arrow\">\n",
       "    <path class=\"displacy-arc\" id=\"arrow-65d671a0029c4326ad75f8e6b43aa4ac-0-14\" stroke-width=\"2px\" d=\"M1995,352.0 C1995,89.5 2670.0,89.5 2670.0,352.0\" fill=\"none\" stroke=\"currentColor\"/>\n",
       "    <text dy=\"1.25em\" style=\"font-size: 0.8em; letter-spacing: 1px\">\n",
       "        <textPath xlink:href=\"#arrow-65d671a0029c4326ad75f8e6b43aa4ac-0-14\" class=\"displacy-label\" startOffset=\"50%\" side=\"left\" fill=\"currentColor\" text-anchor=\"middle\">conj</textPath>\n",
       "    </text>\n",
       "    <path class=\"displacy-arrowhead\" d=\"M2670.0,354.0 L2678.0,342.0 2662.0,342.0\" fill=\"currentColor\"/>\n",
       "</g>\n",
       "\n",
       "<g class=\"displacy-arrow\">\n",
       "    <path class=\"displacy-arc\" id=\"arrow-65d671a0029c4326ad75f8e6b43aa4ac-0-15\" stroke-width=\"2px\" d=\"M3045,352.0 C3045,2.0 3725.0,2.0 3725.0,352.0\" fill=\"none\" stroke=\"currentColor\"/>\n",
       "    <text dy=\"1.25em\" style=\"font-size: 0.8em; letter-spacing: 1px\">\n",
       "        <textPath xlink:href=\"#arrow-65d671a0029c4326ad75f8e6b43aa4ac-0-15\" class=\"displacy-label\" startOffset=\"50%\" side=\"left\" fill=\"currentColor\" text-anchor=\"middle\">cc</textPath>\n",
       "    </text>\n",
       "    <path class=\"displacy-arrowhead\" d=\"M3045,354.0 L3037,342.0 3053,342.0\" fill=\"currentColor\"/>\n",
       "</g>\n",
       "\n",
       "<g class=\"displacy-arrow\">\n",
       "    <path class=\"displacy-arc\" id=\"arrow-65d671a0029c4326ad75f8e6b43aa4ac-0-16\" stroke-width=\"2px\" d=\"M3220,352.0 C3220,89.5 3720.0,89.5 3720.0,352.0\" fill=\"none\" stroke=\"currentColor\"/>\n",
       "    <text dy=\"1.25em\" style=\"font-size: 0.8em; letter-spacing: 1px\">\n",
       "        <textPath xlink:href=\"#arrow-65d671a0029c4326ad75f8e6b43aa4ac-0-16\" class=\"displacy-label\" startOffset=\"50%\" side=\"left\" fill=\"currentColor\" text-anchor=\"middle\">det</textPath>\n",
       "    </text>\n",
       "    <path class=\"displacy-arrowhead\" d=\"M3220,354.0 L3212,342.0 3228,342.0\" fill=\"currentColor\"/>\n",
       "</g>\n",
       "\n",
       "<g class=\"displacy-arrow\">\n",
       "    <path class=\"displacy-arc\" id=\"arrow-65d671a0029c4326ad75f8e6b43aa4ac-0-17\" stroke-width=\"2px\" d=\"M3395,352.0 C3395,177.0 3715.0,177.0 3715.0,352.0\" fill=\"none\" stroke=\"currentColor\"/>\n",
       "    <text dy=\"1.25em\" style=\"font-size: 0.8em; letter-spacing: 1px\">\n",
       "        <textPath xlink:href=\"#arrow-65d671a0029c4326ad75f8e6b43aa4ac-0-17\" class=\"displacy-label\" startOffset=\"50%\" side=\"left\" fill=\"currentColor\" text-anchor=\"middle\">compound</textPath>\n",
       "    </text>\n",
       "    <path class=\"displacy-arrowhead\" d=\"M3395,354.0 L3387,342.0 3403,342.0\" fill=\"currentColor\"/>\n",
       "</g>\n",
       "\n",
       "<g class=\"displacy-arrow\">\n",
       "    <path class=\"displacy-arc\" id=\"arrow-65d671a0029c4326ad75f8e6b43aa4ac-0-18\" stroke-width=\"2px\" d=\"M3570,352.0 C3570,264.5 3710.0,264.5 3710.0,352.0\" fill=\"none\" stroke=\"currentColor\"/>\n",
       "    <text dy=\"1.25em\" style=\"font-size: 0.8em; letter-spacing: 1px\">\n",
       "        <textPath xlink:href=\"#arrow-65d671a0029c4326ad75f8e6b43aa4ac-0-18\" class=\"displacy-label\" startOffset=\"50%\" side=\"left\" fill=\"currentColor\" text-anchor=\"middle\">compound</textPath>\n",
       "    </text>\n",
       "    <path class=\"displacy-arrowhead\" d=\"M3570,354.0 L3562,342.0 3578,342.0\" fill=\"currentColor\"/>\n",
       "</g>\n",
       "</svg></span>"
      ],
      "text/plain": [
       "<IPython.core.display.HTML object>"
      ]
     },
     "metadata": {},
     "output_type": "display_data"
    }
   ],
   "source": [
    "import spacy\n",
    "from spacy import displacy\n",
    "\n",
    "nlp = spacy.load(\"en_core_web_md\")\n",
    "\n",
    "# text = \"Hello, is the M8 available without a panorama glass roof and with the EU Comfort Package. I need the vehicle on the 8th of November 2024\"\n",
    "# text = 'I want to order a iX xDrive40 with a sunroof or a panorama glass roof sky lounge or with the M Sport Package or right-hand drive on 12th April 2018. Is this configuration possible?'\n",
    "# text = \"I want to order a BMW iX with right-hand drive configuration. I will be ordering it at the start of October 2022.\"\n",
    "# text = \"I want to order a BMW iX. Please don't add a right-hand drive configuration. I will be ordering it at the start of October 2022.\"\n",
    "# text = \"I want to order a BMW iX. I do not want a right-hand drive configuration. I will be ordering it at the start of October 2022.\"\n",
    "# text = \"I want to order a X7 XDrive50 with right-hand drive configuration. I will be ordering it at the start of October 2022.\"\n",
    "# text =  'I want to order a BMW xDrive which does Not include panaroma glass roof or sunroof along with a right-hand drive config. Please do not add the m sport package or the m sport package pro. Is a delivery on 13th of December possible?'\n",
    "text = 'I need a BMW 318i with sunroof or the left-hand drive and M Sport Package Pro or the m sport package. 69. '.title()\n",
    "doc = nlp(text)\n",
    "displacy.render(doc, style = \"dep\")"
   ]
  },
  {
   "attachments": {},
   "cell_type": "markdown",
   "metadata": {},
   "source": [
    "- Most of these keywords look like they are compound NOUNS or PROPNs. Some are joined with amod though (like the model names or ones separated with -).\n",
    "- The one with \"panorama glass roof sky lounge\" is giving a wierd compound structure (this can be solved with some recursive function to extract the compounds).\n",
    "\n",
    "- This is also going to require some sort of reduction as the lookup function for compound words create redundant lists. We can check if a term is a subset of another term and if yes, we can remove them.\n",
    "\n",
    "- The with/without etc are ADP and can directly be taken form the head of the NOUN/PROPN. That gives me my and/and not boolean logic. (However, due to some grammatical mistake, the head might not end up being a directy with or without. Here, I'll need to find some way to determine whether the head has a positive or negative connotation.)\n",
    "\n",
    "- Now about OR. <b>Here is an idea </b>. You technically cannot ask for two configuration for the same thing (like sunroof and panaroma glass roof). So say if I find two things that belong to the roof configuration, they'll go into a bracket with OR/OR-NOT. (To reinforce this however, I can check for the any child conjugations that these terms have).\n",
    "\n",
    "- Another observation: If the sentence is A or B, then the head of A is usually wrong. If both belong to the same class, we can assume both have the same head as the one for B."
   ]
  },
  {
   "cell_type": "code",
   "execution_count": 15,
   "metadata": {},
   "outputs": [],
   "source": [
    "from pos_tagging import *"
   ]
  },
  {
   "cell_type": "code",
   "execution_count": 35,
   "metadata": {},
   "outputs": [
    {
     "name": "stdout",
     "output_type": "stream",
     "text": [
      "Prompt:  Hello, is the M8 available without a panorama glass roof and with the EU Comfort Package. I need the vehicle on the 8th of November 2024 \n",
      "\n",
      "{'values': [available, M8], 'main_token': M8, 'text': 'available M8', 'child_conj': [], 'head_conj': [], 'pos': 'PROPN', 'dep': 'attr', 'head': is}\n",
      "{'values': [glass], 'main_token': glass, 'text': 'glass', 'child_conj': [], 'head_conj': [], 'pos': 'NOUN', 'dep': 'compound', 'head': roof}\n",
      "{'values': [panorama, glass, roof], 'main_token': roof, 'text': 'panorama glass roof', 'child_conj': [], 'head_conj': [and], 'pos': 'NOUN', 'dep': 'pobj', 'head': without}\n",
      "{'values': [EU], 'main_token': EU, 'text': 'EU', 'child_conj': [], 'head_conj': [], 'pos': 'PROPN', 'dep': 'compound', 'head': Package}\n",
      "{'values': [Comfort], 'main_token': Comfort, 'text': 'Comfort', 'child_conj': [], 'head_conj': [], 'pos': 'PROPN', 'dep': 'compound', 'head': Package}\n",
      "{'values': [EU, Comfort, Package], 'main_token': Package, 'text': 'EU Comfort Package', 'child_conj': [], 'head_conj': [], 'pos': 'PROPN', 'dep': 'pobj', 'head': with}\n",
      "{'values': [vehicle], 'main_token': vehicle, 'text': 'vehicle', 'child_conj': [], 'head_conj': [], 'pos': 'NOUN', 'dep': 'dobj', 'head': need}\n",
      "{'values': [8th], 'main_token': 8th, 'text': '8th', 'child_conj': [], 'head_conj': [], 'pos': 'NOUN', 'dep': 'pobj', 'head': on}\n",
      "{'values': [2024, November], 'main_token': November, 'text': '2024 November', 'child_conj': [], 'head_conj': [], 'pos': 'PROPN', 'dep': 'pobj', 'head': of}\n",
      "\n",
      "------------------\n",
      "Unique:\n",
      "{'values': [available, M8], 'main_token': M8, 'text': 'available M8', 'child_conj': [], 'head_conj': [], 'pos': 'PROPN', 'dep': 'attr', 'head': is}\n",
      "{'values': [panorama, glass, roof], 'main_token': roof, 'text': 'panorama glass roof', 'child_conj': [], 'head_conj': [and], 'pos': 'NOUN', 'dep': 'pobj', 'head': without}\n",
      "{'values': [EU, Comfort, Package], 'main_token': Package, 'text': 'EU Comfort Package', 'child_conj': [], 'head_conj': [], 'pos': 'PROPN', 'dep': 'pobj', 'head': with}\n",
      "{'values': [vehicle], 'main_token': vehicle, 'text': 'vehicle', 'child_conj': [], 'head_conj': [], 'pos': 'NOUN', 'dep': 'dobj', 'head': need}\n",
      "{'values': [8th], 'main_token': 8th, 'text': '8th', 'child_conj': [], 'head_conj': [], 'pos': 'NOUN', 'dep': 'pobj', 'head': on}\n",
      "{'values': [2024, November], 'main_token': November, 'text': '2024 November', 'child_conj': [], 'head_conj': [], 'pos': 'PROPN', 'dep': 'pobj', 'head': of}\n",
      "\n",
      "\n",
      "\n",
      "\n",
      "Prompt:  I am planning to order the BMW M8 with a sunroof or a panorama glass roof sky lounge along with the M Sport Package and right-hand drive on 12th April 2018. Is this configuration possible? \n",
      "\n",
      "{'values': [BMW], 'main_token': BMW, 'text': 'BMW', 'child_conj': [], 'head_conj': [], 'pos': 'PROPN', 'dep': 'compound', 'head': M8}\n",
      "{'values': [BMW, M8], 'main_token': M8, 'text': 'BMW M8', 'child_conj': [], 'head_conj': [], 'pos': 'PROPN', 'dep': 'dobj', 'head': order}\n",
      "{'values': [sunroof], 'main_token': sunroof, 'text': 'sunroof', 'child_conj': [or], 'head_conj': [], 'pos': 'NOUN', 'dep': 'pobj', 'head': with}\n",
      "{'values': [glass], 'main_token': glass, 'text': 'glass', 'child_conj': [], 'head_conj': [], 'pos': 'NOUN', 'dep': 'compound', 'head': roof}\n",
      "{'values': [glass, roof], 'main_token': roof, 'text': 'glass roof', 'child_conj': [], 'head_conj': [], 'pos': 'NOUN', 'dep': 'compound', 'head': lounge}\n",
      "{'values': [sky], 'main_token': sky, 'text': 'sky', 'child_conj': [], 'head_conj': [], 'pos': 'NOUN', 'dep': 'compound', 'head': lounge}\n",
      "{'values': [panorama, glass, roof, sky, lounge], 'main_token': lounge, 'text': 'panorama glass roof sky lounge', 'child_conj': [], 'head_conj': [or], 'pos': 'NOUN', 'dep': 'conj', 'head': sunroof}\n",
      "{'values': [M], 'main_token': M, 'text': 'M', 'child_conj': [], 'head_conj': [and], 'pos': 'PROPN', 'dep': 'compound', 'head': Package}\n",
      "{'values': [Sport], 'main_token': Sport, 'text': 'Sport', 'child_conj': [], 'head_conj': [and], 'pos': 'PROPN', 'dep': 'compound', 'head': Package}\n",
      "{'values': [M, Sport, Package], 'main_token': Package, 'text': 'M Sport Package', 'child_conj': [and], 'head_conj': [], 'pos': 'PROPN', 'dep': 'pobj', 'head': with}\n",
      "{'values': [right, hand], 'main_token': hand, 'text': 'right hand', 'child_conj': [], 'head_conj': [], 'pos': 'NOUN', 'dep': 'compound', 'head': drive}\n",
      "{'values': [right, hand, drive], 'main_token': drive, 'text': 'right hand drive', 'child_conj': [], 'head_conj': [and], 'pos': 'NOUN', 'dep': 'conj', 'head': Package}\n",
      "{'values': [2018, April], 'main_token': April, 'text': '2018 April', 'child_conj': [], 'head_conj': [], 'pos': 'PROPN', 'dep': 'npadvmod', 'head': 12th}\n",
      "{'values': [configuration], 'main_token': configuration, 'text': 'configuration', 'child_conj': [], 'head_conj': [], 'pos': 'NOUN', 'dep': 'nsubj', 'head': Is}\n",
      "\n",
      "------------------\n",
      "Unique:\n",
      "{'values': [BMW, M8], 'main_token': M8, 'text': 'BMW M8', 'child_conj': [], 'head_conj': [], 'pos': 'PROPN', 'dep': 'dobj', 'head': order}\n",
      "{'values': [sunroof], 'main_token': sunroof, 'text': 'sunroof', 'child_conj': [or], 'head_conj': [], 'pos': 'NOUN', 'dep': 'pobj', 'head': with}\n",
      "{'values': [panorama, glass, roof, sky, lounge], 'main_token': lounge, 'text': 'panorama glass roof sky lounge', 'child_conj': [], 'head_conj': [or], 'pos': 'NOUN', 'dep': 'conj', 'head': sunroof}\n",
      "{'values': [M, Sport, Package], 'main_token': Package, 'text': 'M Sport Package', 'child_conj': [and], 'head_conj': [], 'pos': 'PROPN', 'dep': 'pobj', 'head': with}\n",
      "{'values': [right, hand, drive], 'main_token': drive, 'text': 'right hand drive', 'child_conj': [], 'head_conj': [and], 'pos': 'NOUN', 'dep': 'conj', 'head': Package}\n",
      "{'values': [2018, April], 'main_token': April, 'text': '2018 April', 'child_conj': [], 'head_conj': [], 'pos': 'PROPN', 'dep': 'npadvmod', 'head': 12th}\n",
      "{'values': [configuration], 'main_token': configuration, 'text': 'configuration', 'child_conj': [], 'head_conj': [], 'pos': 'NOUN', 'dep': 'nsubj', 'head': Is}\n",
      "\n",
      "\n",
      "\n",
      "\n",
      "Prompt:  I want to order a BMW iX XDrive40 model with right-hand drive configuration. I will be ordering it at the start of October 2022. \n",
      "\n",
      "{'values': [BMW], 'main_token': BMW, 'text': 'BMW', 'child_conj': [], 'head_conj': [], 'pos': 'PROPN', 'dep': 'dobj', 'head': order}\n",
      "{'values': [iX], 'main_token': iX, 'text': 'iX', 'child_conj': [], 'head_conj': [], 'pos': 'NOUN', 'dep': 'nmod', 'head': model}\n",
      "{'values': [iX, XDrive40], 'main_token': XDrive40, 'text': 'iX XDrive40', 'child_conj': [], 'head_conj': [], 'pos': 'X', 'dep': 'dep', 'head': iX}\n",
      "{'values': [model], 'main_token': model, 'text': 'model', 'child_conj': [], 'head_conj': [], 'pos': 'NOUN', 'dep': 'dobj', 'head': order}\n",
      "{'values': [right, hand], 'main_token': hand, 'text': 'right hand', 'child_conj': [], 'head_conj': [], 'pos': 'NOUN', 'dep': 'compound', 'head': drive}\n",
      "{'values': [right, hand, drive], 'main_token': drive, 'text': 'right hand drive', 'child_conj': [], 'head_conj': [], 'pos': 'NOUN', 'dep': 'compound', 'head': configuration}\n",
      "{'values': [right, hand, drive, configuration], 'main_token': configuration, 'text': 'right hand drive configuration', 'child_conj': [], 'head_conj': [], 'pos': 'NOUN', 'dep': 'pobj', 'head': with}\n",
      "{'values': [start], 'main_token': start, 'text': 'start', 'child_conj': [], 'head_conj': [], 'pos': 'NOUN', 'dep': 'pobj', 'head': at}\n",
      "{'values': [2022, October], 'main_token': October, 'text': '2022 October', 'child_conj': [], 'head_conj': [], 'pos': 'PROPN', 'dep': 'pobj', 'head': of}\n",
      "\n",
      "------------------\n",
      "Unique:\n",
      "{'values': [BMW], 'main_token': BMW, 'text': 'BMW', 'child_conj': [], 'head_conj': [], 'pos': 'PROPN', 'dep': 'dobj', 'head': order}\n",
      "{'values': [iX, XDrive40], 'main_token': XDrive40, 'text': 'iX XDrive40', 'child_conj': [], 'head_conj': [], 'pos': 'X', 'dep': 'dep', 'head': iX}\n",
      "{'values': [model], 'main_token': model, 'text': 'model', 'child_conj': [], 'head_conj': [], 'pos': 'NOUN', 'dep': 'dobj', 'head': order}\n",
      "{'values': [right, hand, drive, configuration], 'main_token': configuration, 'text': 'right hand drive configuration', 'child_conj': [], 'head_conj': [], 'pos': 'NOUN', 'dep': 'pobj', 'head': with}\n",
      "{'values': [start], 'main_token': start, 'text': 'start', 'child_conj': [], 'head_conj': [], 'pos': 'NOUN', 'dep': 'pobj', 'head': at}\n",
      "{'values': [2022, October], 'main_token': October, 'text': '2022 October', 'child_conj': [], 'head_conj': [], 'pos': 'PROPN', 'dep': 'pobj', 'head': of}\n",
      "\n",
      "\n",
      "\n",
      "\n",
      "Prompt:  I want to order a BMW iX. I do not want a right-hand drive configuration. I will be ordering it at the start of October 2022. \n",
      "\n",
      "{'values': [BMW], 'main_token': BMW, 'text': 'BMW', 'child_conj': [], 'head_conj': [], 'pos': 'PROPN', 'dep': 'compound', 'head': iX.}\n",
      "{'values': [BMW, iX.], 'main_token': iX., 'text': 'BMW iX.', 'child_conj': [], 'head_conj': [], 'pos': 'PROPN', 'dep': 'dobj', 'head': order}\n",
      "{'values': [right, hand], 'main_token': hand, 'text': 'right hand', 'child_conj': [], 'head_conj': [], 'pos': 'NOUN', 'dep': 'compound', 'head': drive}\n",
      "{'values': [right, hand, drive], 'main_token': drive, 'text': 'right hand drive', 'child_conj': [], 'head_conj': [], 'pos': 'NOUN', 'dep': 'compound', 'head': configuration}\n",
      "{'values': [right, hand, drive, configuration], 'main_token': configuration, 'text': 'right hand drive configuration', 'child_conj': [], 'head_conj': [], 'pos': 'NOUN', 'dep': 'dobj', 'head': want}\n",
      "{'values': [start], 'main_token': start, 'text': 'start', 'child_conj': [], 'head_conj': [], 'pos': 'NOUN', 'dep': 'pobj', 'head': at}\n",
      "{'values': [2022, October], 'main_token': October, 'text': '2022 October', 'child_conj': [], 'head_conj': [], 'pos': 'PROPN', 'dep': 'pobj', 'head': of}\n",
      "\n",
      "------------------\n",
      "Unique:\n",
      "{'values': [BMW, iX.], 'main_token': iX., 'text': 'BMW iX.', 'child_conj': [], 'head_conj': [], 'pos': 'PROPN', 'dep': 'dobj', 'head': order}\n",
      "{'values': [right, hand, drive, configuration], 'main_token': configuration, 'text': 'right hand drive configuration', 'child_conj': [], 'head_conj': [], 'pos': 'NOUN', 'dep': 'dobj', 'head': want}\n",
      "{'values': [start], 'main_token': start, 'text': 'start', 'child_conj': [], 'head_conj': [], 'pos': 'NOUN', 'dep': 'pobj', 'head': at}\n",
      "{'values': [2022, October], 'main_token': October, 'text': '2022 October', 'child_conj': [], 'head_conj': [], 'pos': 'PROPN', 'dep': 'pobj', 'head': of}\n",
      "\n",
      "\n",
      "\n",
      "\n"
     ]
    }
   ],
   "source": [
    "samples = [\"Hello, is the M8 available without a panorama glass roof and with the EU Comfort Package. I need the vehicle on the 8th of November 2024\",\n",
    "'I am planning to order the BMW M8 with a sunroof or a panorama glass roof sky lounge along with the M Sport Package and right-hand drive on 12th April 2018. Is this configuration possible?',\n",
    "\"I want to order a BMW iX XDrive40 model with right-hand drive configuration. I will be ordering it at the start of October 2022.\",\n",
    "\"I want to order a BMW iX. I do not want a right-hand drive configuration. I will be ordering it at the start of October 2022.\"]\n",
    "\n",
    "\n",
    "for text in samples:\n",
    "    print(\"Prompt: \", text, '\\n')\n",
    "    unique_tags, all_tags = get_key_terms_with_pos(text)\n",
    "\n",
    "    for t in all_tags:\n",
    "        print(t)\n",
    "\n",
    "    print('\\n------------------\\nUnique:')\n",
    "\n",
    "    for t in unique_tags:\n",
    "        print(t)\n",
    "\n",
    "    print('\\n\\n\\n')"
   ]
  },
  {
   "attachments": {},
   "cell_type": "markdown",
   "metadata": {},
   "source": [
    "#### Let's try to extract the boolean rule\n",
    "\n",
    "Methods that have failed so far:\n",
    "- TextBlob for getting the sentiment\n",
    "- vaderSentiment\n",
    "\n",
    "One possible way here can be either lemmatize the term and make a look up dictionary. "
   ]
  },
  {
   "cell_type": "code",
   "execution_count": 16,
   "metadata": {},
   "outputs": [
    {
     "name": "stderr",
     "output_type": "stream",
     "text": [
      "[nltk_data] Downloading package brown to\n",
      "[nltk_data]     C:\\Users\\GP65\\AppData\\Roaming\\nltk_data...\n",
      "[nltk_data]   Package brown is already up-to-date!\n",
      "[nltk_data] Downloading package punkt to\n",
      "[nltk_data]     C:\\Users\\GP65\\AppData\\Roaming\\nltk_data...\n",
      "[nltk_data]   Package punkt is already up-to-date!\n",
      "[nltk_data] Downloading package wordnet to\n",
      "[nltk_data]     C:\\Users\\GP65\\AppData\\Roaming\\nltk_data...\n",
      "[nltk_data]   Package wordnet is already up-to-date!\n",
      "[nltk_data] Downloading package averaged_perceptron_tagger to\n",
      "[nltk_data]     C:\\Users\\GP65\\AppData\\Roaming\\nltk_data...\n",
      "[nltk_data]   Package averaged_perceptron_tagger is already up-to-\n",
      "[nltk_data]       date!\n",
      "[nltk_data] Downloading package conll2000 to\n",
      "[nltk_data]     C:\\Users\\GP65\\AppData\\Roaming\\nltk_data...\n",
      "[nltk_data]   Package conll2000 is already up-to-date!\n",
      "[nltk_data] Downloading package movie_reviews to\n",
      "[nltk_data]     C:\\Users\\GP65\\AppData\\Roaming\\nltk_data...\n",
      "[nltk_data]   Package movie_reviews is already up-to-date!\n"
     ]
    }
   ],
   "source": [
    "from request_body_creation import *"
   ]
  },
  {
   "cell_type": "code",
   "execution_count": 50,
   "metadata": {},
   "outputs": [],
   "source": [
    "custom_sample = 'I am looking to buy a car. Preferably X7 xDrive. I need a panaroma glass roof.  Is 3rd December Possible ?'\n",
    "# custom_sample = \"I'm looking to buy the X7 xDrive40i without the M Sport Package or a sunroof on November 4th, 2027. Is that configuration possible?\"\n",
    "tags,_ = get_key_terms_with_pos(custom_sample)\n",
    "segregated = segregated_tags(tags)"
   ]
  },
  {
   "cell_type": "code",
   "execution_count": 58,
   "metadata": {},
   "outputs": [
    {
     "name": "stdout",
     "output_type": "stream",
     "text": [
      "{'values': [car], 'main_token': car, 'text': 'car', 'child_conj': [], 'head_conj': [], 'pos': 'NOUN', 'dep': 'dobj', 'head': buy, 'connotation': 'pos'}\n",
      "{'values': [panaroma, glass, roof], 'main_token': roof, 'text': 'panaroma glass roof', 'child_conj': [], 'head_conj': [], 'pos': 'NOUN', 'dep': 'dobj', 'head': need, 'connotation': 'pos', 'code': 'S402A'}\n"
     ]
    }
   ],
   "source": [
    "logic, logic_sentiment = get_boolean_logic_datastruct(tags, segregated)"
   ]
  },
  {
   "cell_type": "code",
   "execution_count": 33,
   "metadata": {},
   "outputs": [
    {
     "name": "stdout",
     "output_type": "stream",
     "text": [
      "+S403A+-LL+-P33BA\n"
     ]
    }
   ],
   "source": [
    "boolean_formula = convert_to_boolean_formula(logic, logic_sentiment)\n",
    "print(boolean_formula)"
   ]
  },
  {
   "attachments": {},
   "cell_type": "markdown",
   "metadata": {},
   "source": [
    "#### Getting the Model Type Code\n"
   ]
  },
  {
   "cell_type": "code",
   "execution_count": 16,
   "metadata": {},
   "outputs": [
    {
     "name": "stdout",
     "output_type": "stream",
     "text": [
      "['DZ01', '21CF', '11CF']\n"
     ]
    }
   ],
   "source": [
    "model_type_codes = get_model_type_codes(tags,segregated)\n",
    "print(model_type_codes)"
   ]
  },
  {
   "attachments": {},
   "cell_type": "markdown",
   "metadata": {},
   "source": [
    "### Getting the Date"
   ]
  },
  {
   "cell_type": "code",
   "execution_count": 36,
   "metadata": {},
   "outputs": [
    {
     "name": "stdout",
     "output_type": "stream",
     "text": [
      "Hello, is the M8 available without a panorama glass roof and with the EU Comfort Package. I need the vehicle on the 8th of November 2024\n",
      "2024-11-08\n"
     ]
    }
   ],
   "source": [
    "import datefinder\n",
    "text = samples[0]\n",
    "print(text)\n",
    "matches = datefinder.find_dates(text)\n",
    "for match in matches:\n",
    "    print(match.date().strftime(\"%Y-%m-%d\"))"
   ]
  },
  {
   "attachments": {},
   "cell_type": "markdown",
   "metadata": {},
   "source": [
    "#### Problem:\n",
    "- This cannot deal with statements like \"Start of .....\" and uses the middle of the month.\n",
    "- Other libraries like dateutils also fail here.\n",
    "- SUTime might be able to identify this but the dependency is too large to download for this application."
   ]
  },
  {
   "attachments": {},
   "cell_type": "markdown",
   "metadata": {},
   "source": [
    "### Getting the Request Body"
   ]
  },
  {
   "cell_type": "code",
   "execution_count": 32,
   "metadata": {},
   "outputs": [
    {
     "data": {
      "text/plain": [
       "([{'modelTypeCodes': ['21CF'],\n",
       "   'booleanFormulas': ['+(S403A/S407A)+(P337A/P33BA)+RL'],\n",
       "   'dates': ['2023-04-12']},\n",
       "  {'modelTypeCodes': ['11CF'],\n",
       "   'booleanFormulas': ['+(S403A/S407A)+(P337A/P33BA)+RL'],\n",
       "   'dates': ['2023-04-12']},\n",
       "  {'modelTypeCodes': ['21EM'],\n",
       "   'booleanFormulas': ['+(S403A/S407A)+(P337A/P33BA)+RL'],\n",
       "   'dates': ['2023-04-12']},\n",
       "  {'modelTypeCodes': ['21EN'],\n",
       "   'booleanFormulas': ['+(S403A/S407A)+(P337A/P33BA)+RL'],\n",
       "   'dates': ['2023-04-12']}],\n",
       " [['21CF', '11CF', '21EM', '21EN'],\n",
       "  '+(S403A/S407A)+(P337A/P33BA)+RL',\n",
       "  '2023-04-12'])"
      ]
     },
     "execution_count": 32,
     "metadata": {},
     "output_type": "execute_result"
    }
   ],
   "source": [
    "custom_sample = 'I am planning to order the BMW xDrive with a sunroof or a panorama glass roof sky lounge along with the M Sport Package or M Sport Package Pro and right-hand drive on 12th April. Is this configuration possible?'\n",
    "get_request_body(custom_sample)"
   ]
  },
  {
   "attachments": {},
   "cell_type": "markdown",
   "metadata": {},
   "source": [
    "### Running on Test Cases (courtesy of ChatGPT)"
   ]
  },
  {
   "cell_type": "code",
   "execution_count": 3,
   "metadata": {},
   "outputs": [],
   "source": [
    "import pandas as pd\n",
    "from tqdm.notebook import tqdm\n",
    "test_case = pd.read_csv('./test_cases.csv')\n",
    "# Fixing the datetime format\n",
    "test_case['Date'] = test_case['Date'].apply(lambda x: list(datefinder.find_dates(' '.join(x.split(' ')[1:])))[0])"
   ]
  },
  {
   "cell_type": "code",
   "execution_count": 5,
   "metadata": {},
   "outputs": [
    {
     "data": {
      "application/vnd.jupyter.widget-view+json": {
       "model_id": "30fbdcd74c6247b9b1b4a2269d710028",
       "version_major": 2,
       "version_minor": 0
      },
      "text/plain": [
       "  0%|          | 0/39 [00:00<?, ?it/s]"
      ]
     },
     "metadata": {},
     "output_type": "display_data"
    }
   ],
   "source": [
    "prompts,values = [],[]\n",
    "\n",
    "for text in tqdm(test_case[\"Prompts\"]):\n",
    "    try:\n",
    "        request_body, request_values = get_request_body(text, exception_handeling= False)\n",
    "\n",
    "        prompts.append(request_body)\n",
    "        values.append(request_values)\n",
    "    except Exception as e:\n",
    "        print(e)\n",
    "        prompts.append([None])\n",
    "        values.append([None,None,None])\n"
   ]
  },
  {
   "cell_type": "code",
   "execution_count": 6,
   "metadata": {},
   "outputs": [],
   "source": [
    "result = pd.DataFrame(values)\n",
    "result.iloc[:,1] = result.iloc[:,1].astype(str).apply(lambda a : str([a]))"
   ]
  },
  {
   "cell_type": "code",
   "execution_count": 7,
   "metadata": {},
   "outputs": [
    {
     "name": "stdout",
     "output_type": "stream",
     "text": [
      "ModelTypeCode accuracy: 39/39\n",
      "booleanFormulas accuracy: 39/39\n",
      "dates accuracy: 38/39\n"
     ]
    }
   ],
   "source": [
    "print(f\"ModelTypeCode accuracy: {(test_case.iloc[:,1] == result.iloc[:,0].astype(str)).sum()}/{len(test_case)}\")\n",
    "print(f\"booleanFormulas accuracy: {(test_case.iloc[:,2] == result.iloc[:,1].astype(str)).sum()}/{len(test_case)}\")\n",
    "print(f\"dates accuracy: {(pd.to_datetime(test_case.iloc[:,3]) == pd.to_datetime(result.iloc[:,2])).sum()}/{len(test_case)}\")"
   ]
  },
  {
   "cell_type": "code",
   "execution_count": 11,
   "metadata": {},
   "outputs": [
    {
     "data": {
      "text/html": [
       "<div>\n",
       "<style scoped>\n",
       "    .dataframe tbody tr th:only-of-type {\n",
       "        vertical-align: middle;\n",
       "    }\n",
       "\n",
       "    .dataframe tbody tr th {\n",
       "        vertical-align: top;\n",
       "    }\n",
       "\n",
       "    .dataframe thead th {\n",
       "        text-align: right;\n",
       "    }\n",
       "</style>\n",
       "<table border=\"1\" class=\"dataframe\">\n",
       "  <thead>\n",
       "    <tr style=\"text-align: right;\">\n",
       "      <th></th>\n",
       "      <th>Prompts</th>\n",
       "      <th>Model</th>\n",
       "      <th>Boolean</th>\n",
       "      <th>Date</th>\n",
       "    </tr>\n",
       "  </thead>\n",
       "  <tbody>\n",
       "    <tr>\n",
       "      <th>20</th>\n",
       "      <td>Can you tell me if it's possible to order a BM...</td>\n",
       "      <td>['11CF']</td>\n",
       "      <td>['+-(S403A/S402A)+P33BA']</td>\n",
       "      <td>2022-10-31</td>\n",
       "    </tr>\n",
       "  </tbody>\n",
       "</table>\n",
       "</div>"
      ],
      "text/plain": [
       "                                              Prompts     Model  \\\n",
       "20  Can you tell me if it's possible to order a BM...  ['11CF']   \n",
       "\n",
       "                      Boolean       Date  \n",
       "20  ['+-(S403A/S402A)+P33BA'] 2022-10-31  "
      ]
     },
     "execution_count": 11,
     "metadata": {},
     "output_type": "execute_result"
    }
   ],
   "source": [
    "# Checking the error\n",
    "test_case[~(pd.to_datetime(test_case.iloc[:,3]) == pd.to_datetime(result.iloc[:,2]))]"
   ]
  },
  {
   "attachments": {},
   "cell_type": "markdown",
   "metadata": {},
   "source": [
    "#### Observations:\n",
    "\n",
    "- All the model types and boolean formulas from these test cases are getting detected correctly.\n",
    "- The date inaccuracy is because the datefinder is not able to recognize \"End of October\" as 31st October."
   ]
  },
  {
   "attachments": {},
   "cell_type": "markdown",
   "metadata": {},
   "source": []
  }
 ],
 "metadata": {
  "kernelspec": {
   "display_name": "datafest",
   "language": "python",
   "name": "python3"
  },
  "language_info": {
   "codemirror_mode": {
    "name": "ipython",
    "version": 3
   },
   "file_extension": ".py",
   "mimetype": "text/x-python",
   "name": "python",
   "nbconvert_exporter": "python",
   "pygments_lexer": "ipython3",
   "version": "3.9.16"
  },
  "orig_nbformat": 4
 },
 "nbformat": 4,
 "nbformat_minor": 2
}
